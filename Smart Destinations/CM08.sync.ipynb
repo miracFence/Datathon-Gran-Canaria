{
 "cells": [
  {
   "cell_type": "code",
   "execution_count": null,
   "id": "d764f3f8",
   "metadata": {},
   "outputs": [],
   "source": [
    "import pandas as pd"
   ]
  },
  {
   "cell_type": "code",
   "execution_count": null,
   "id": "04421e10",
   "metadata": {},
   "outputs": [],
   "source": [
    "maestro_cm08_201901_202103 = \"../../datos//CM08/maestro_cm08_201901_202103.csv\"\n",
    "maestro_cm08_201901_202103_dt = pd.read_csv(maestro_cm08_201901_202103)\n",
    "maestro_cm08_201901_202103_dt.head()"
   ]
  }
 ],
 "metadata": {
  "kernelspec": {
   "display_name": "Python 3 (ipykernel)",
   "language": "python",
   "name": "python3"
  },
  "language_info": {
   "codemirror_mode": {
    "name": "ipython",
    "version": 3
   },
   "file_extension": ".py",
   "mimetype": "text/x-python",
   "name": "python",
   "nbconvert_exporter": "python",
   "pygments_lexer": "ipython3",
   "version": "3.9.7"
  }
 },
 "nbformat": 4,
 "nbformat_minor": 5
}
