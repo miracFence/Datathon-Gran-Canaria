{
 "cells": [
  {
   "cell_type": "code",
   "execution_count": 2,
   "source": [
    "import os\n",
    "import pandas as pd\n",
    "import numpy as np\n",
    "import matplotlib.pyplot as plt\n",
    "import seaborn as sns\n",
    "import glob\n",
    "import functools"
   ],
   "outputs": [],
   "metadata": {}
  },
  {
   "cell_type": "code",
   "execution_count": 4,
   "source": [
    "maestro_cm29 = \"../../../datos/CM29/maestro_cm29.csv\"\n",
    "maestro_cm29 = pd.read_csv(maestro_cm29)\n",
    "maestro_cm29.describe()\n"
   ],
   "outputs": [
    {
     "output_type": "execute_result",
     "data": {
      "text/html": [
       "<div>\n",
       "<style scoped>\n",
       "    .dataframe tbody tr th:only-of-type {\n",
       "        vertical-align: middle;\n",
       "    }\n",
       "\n",
       "    .dataframe tbody tr th {\n",
       "        vertical-align: top;\n",
       "    }\n",
       "\n",
       "    .dataframe thead th {\n",
       "        text-align: right;\n",
       "    }\n",
       "</style>\n",
       "<table border=\"1\" class=\"dataframe\">\n",
       "  <thead>\n",
       "    <tr style=\"text-align: right;\">\n",
       "      <th></th>\n",
       "      <th>Unnamed: 0</th>\n",
       "      <th>Anyo</th>\n",
       "      <th>Valor</th>\n",
       "      <th>max_anyo</th>\n",
       "      <th>total_establecimientos</th>\n",
       "    </tr>\n",
       "  </thead>\n",
       "  <tbody>\n",
       "    <tr>\n",
       "      <th>count</th>\n",
       "      <td>3803.000000</td>\n",
       "      <td>3803.000000</td>\n",
       "      <td>3803.000000</td>\n",
       "      <td>3803.0</td>\n",
       "      <td>3803.000000</td>\n",
       "    </tr>\n",
       "    <tr>\n",
       "      <th>mean</th>\n",
       "      <td>1901.000000</td>\n",
       "      <td>2009.849592</td>\n",
       "      <td>106.770181</td>\n",
       "      <td>2019.0</td>\n",
       "      <td>20510.883250</td>\n",
       "    </tr>\n",
       "    <tr>\n",
       "      <th>std</th>\n",
       "      <td>1097.975865</td>\n",
       "      <td>5.932417</td>\n",
       "      <td>199.408075</td>\n",
       "      <td>0.0</td>\n",
       "      <td>2376.836856</td>\n",
       "    </tr>\n",
       "    <tr>\n",
       "      <th>min</th>\n",
       "      <td>0.000000</td>\n",
       "      <td>2000.000000</td>\n",
       "      <td>1.000000</td>\n",
       "      <td>2019.0</td>\n",
       "      <td>16207.000000</td>\n",
       "    </tr>\n",
       "    <tr>\n",
       "      <th>25%</th>\n",
       "      <td>950.500000</td>\n",
       "      <td>2005.000000</td>\n",
       "      <td>12.000000</td>\n",
       "      <td>2019.0</td>\n",
       "      <td>18507.000000</td>\n",
       "    </tr>\n",
       "    <tr>\n",
       "      <th>50%</th>\n",
       "      <td>1901.000000</td>\n",
       "      <td>2010.000000</td>\n",
       "      <td>32.000000</td>\n",
       "      <td>2019.0</td>\n",
       "      <td>20293.000000</td>\n",
       "    </tr>\n",
       "    <tr>\n",
       "      <th>75%</th>\n",
       "      <td>2851.500000</td>\n",
       "      <td>2015.000000</td>\n",
       "      <td>100.000000</td>\n",
       "      <td>2019.0</td>\n",
       "      <td>22823.000000</td>\n",
       "    </tr>\n",
       "    <tr>\n",
       "      <th>max</th>\n",
       "      <td>3802.000000</td>\n",
       "      <td>2019.000000</td>\n",
       "      <td>1449.000000</td>\n",
       "      <td>2019.0</td>\n",
       "      <td>23704.000000</td>\n",
       "    </tr>\n",
       "  </tbody>\n",
       "</table>\n",
       "</div>"
      ],
      "text/plain": [
       "        Unnamed: 0         Anyo        Valor  max_anyo  total_establecimientos\n",
       "count  3803.000000  3803.000000  3803.000000    3803.0             3803.000000\n",
       "mean   1901.000000  2009.849592   106.770181    2019.0            20510.883250\n",
       "std    1097.975865     5.932417   199.408075       0.0             2376.836856\n",
       "min       0.000000  2000.000000     1.000000    2019.0            16207.000000\n",
       "25%     950.500000  2005.000000    12.000000    2019.0            18507.000000\n",
       "50%    1901.000000  2010.000000    32.000000    2019.0            20293.000000\n",
       "75%    2851.500000  2015.000000   100.000000    2019.0            22823.000000\n",
       "max    3802.000000  2019.000000  1449.000000    2019.0            23704.000000"
      ]
     },
     "metadata": {},
     "execution_count": 4
    }
   ],
   "metadata": {}
  },
  {
   "cell_type": "code",
   "execution_count": 7,
   "source": [
    "maestro_cm29.groupby(['Isla','Municipio','Comercio'])['Valor'].sum()"
   ],
   "outputs": [
    {
     "output_type": "execute_result",
     "data": {
      "text/plain": [
       "Isla       Municipio                  Comercio    \n",
       "El Hierro  Frontera                   Bares           389.0\n",
       "                                      Restaurantes    260.0\n",
       "           Pinar De El Hierro (El)    Bares           159.0\n",
       "                                      Restaurantes     83.0\n",
       "           Pinar de El Hierro (El)    Bares            93.0\n",
       "                                                      ...  \n",
       "Tenerife   Victoria De Acentejo (La)  Comerc_vinos    127.0\n",
       "                                      Restaurantes    840.0\n",
       "           Vilaflor                   Bares           306.0\n",
       "                                      Comerc_vinos     15.0\n",
       "                                      Restaurantes    423.0\n",
       "Name: Valor, Length: 203, dtype: float64"
      ]
     },
     "metadata": {},
     "execution_count": 7
    }
   ],
   "metadata": {}
  },
  {
   "cell_type": "code",
   "execution_count": 8,
   "source": [
    "maestro_cm29.groupby(['Isla','Comercio'])['Valor'].sum()"
   ],
   "outputs": [
    {
     "output_type": "execute_result",
     "data": {
      "text/plain": [
       "Isla           Comercio    \n",
       "El Hierro      Bares             1099.0\n",
       "               Comerc_vinos         7.0\n",
       "               Restaurantes       962.0\n",
       "Fuerteventura  Bares            22468.0\n",
       "               Restaurantes     10125.0\n",
       "Gran Canaria   Bares            59935.0\n",
       "               Comerc_vinos        31.0\n",
       "               Restaurantes     31367.0\n",
       "La Gomera      Bares             2710.0\n",
       "               Restaurantes      2366.0\n",
       "La Palma       Bares            10490.0\n",
       "               Restaurantes      3237.0\n",
       "Lanzarote      Bares            30356.0\n",
       "               Restaurantes     18605.0\n",
       "Tenerife       Bares           137082.0\n",
       "               Comerc_vinos       772.0\n",
       "               Restaurantes     74435.0\n",
       "Name: Valor, dtype: float64"
      ]
     },
     "metadata": {},
     "execution_count": 8
    }
   ],
   "metadata": {}
  }
 ],
 "metadata": {
  "orig_nbformat": 4,
  "language_info": {
   "name": "python",
   "version": "3.9.7",
   "mimetype": "text/x-python",
   "codemirror_mode": {
    "name": "ipython",
    "version": 3
   },
   "pygments_lexer": "ipython3",
   "nbconvert_exporter": "python",
   "file_extension": ".py"
  },
  "kernelspec": {
   "name": "python3",
   "display_name": "Python 3.9.7 64-bit ('datathon': conda)"
  },
  "interpreter": {
   "hash": "3df4161d2415b2554b6d72f588381e943bc074872f766653d5cd8dc05056e883"
  }
 },
 "nbformat": 4,
 "nbformat_minor": 2
}