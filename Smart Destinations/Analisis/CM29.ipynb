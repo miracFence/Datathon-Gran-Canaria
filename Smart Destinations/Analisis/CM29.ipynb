{
 "cells": [
  {
   "cell_type": "code",
   "execution_count": 1,
   "source": [
    "import os\n",
    "import pandas as pd\n",
    "import numpy as np\n",
    "import matplotlib.pyplot as plt\n",
    "import seaborn as sns\n",
    "import glob\n",
    "import functools"
   ],
   "outputs": [],
   "metadata": {}
  },
  {
   "cell_type": "markdown",
   "source": [
    "# Tipos de establecimientos por isla"
   ],
   "metadata": {}
  },
  {
   "cell_type": "code",
   "execution_count": 2,
   "source": [
    "maestro_cm29 = \"../../../datos/CM29/maestro_cm29.csv\"\n",
    "maestro_cm29 = pd.read_csv(maestro_cm29)\n",
    "maestro_cm29.describe()\n"
   ],
   "outputs": [
    {
     "output_type": "execute_result",
     "data": {
      "text/html": [
       "<div>\n",
       "<style scoped>\n",
       "    .dataframe tbody tr th:only-of-type {\n",
       "        vertical-align: middle;\n",
       "    }\n",
       "\n",
       "    .dataframe tbody tr th {\n",
       "        vertical-align: top;\n",
       "    }\n",
       "\n",
       "    .dataframe thead th {\n",
       "        text-align: right;\n",
       "    }\n",
       "</style>\n",
       "<table border=\"1\" class=\"dataframe\">\n",
       "  <thead>\n",
       "    <tr style=\"text-align: right;\">\n",
       "      <th></th>\n",
       "      <th>Anyo</th>\n",
       "      <th>Valor</th>\n",
       "      <th>Valor_prev</th>\n",
       "      <th>max_anyo</th>\n",
       "      <th>total_establecimientos</th>\n",
       "      <th>total_establecimientos_prev</th>\n",
       "    </tr>\n",
       "  </thead>\n",
       "  <tbody>\n",
       "    <tr>\n",
       "      <th>count</th>\n",
       "      <td>7128.000000</td>\n",
       "      <td>3803.000000</td>\n",
       "      <td>3556.000000</td>\n",
       "      <td>7128.0</td>\n",
       "      <td>7128.000000</td>\n",
       "      <td>6600.000000</td>\n",
       "    </tr>\n",
       "    <tr>\n",
       "      <th>mean</th>\n",
       "      <td>2010.703704</td>\n",
       "      <td>106.770181</td>\n",
       "      <td>107.499719</td>\n",
       "      <td>2019.0</td>\n",
       "      <td>20987.370370</td>\n",
       "      <td>20673.840000</td>\n",
       "    </tr>\n",
       "    <tr>\n",
       "      <th>std</th>\n",
       "      <td>6.169740</td>\n",
       "      <td>199.408075</td>\n",
       "      <td>198.572365</td>\n",
       "      <td>0.0</td>\n",
       "      <td>2358.657019</td>\n",
       "      <td>2242.368602</td>\n",
       "    </tr>\n",
       "    <tr>\n",
       "      <th>min</th>\n",
       "      <td>2000.000000</td>\n",
       "      <td>1.000000</td>\n",
       "      <td>1.000000</td>\n",
       "      <td>2019.0</td>\n",
       "      <td>16207.000000</td>\n",
       "      <td>16207.000000</td>\n",
       "    </tr>\n",
       "    <tr>\n",
       "      <th>25%</th>\n",
       "      <td>2005.000000</td>\n",
       "      <td>12.000000</td>\n",
       "      <td>13.000000</td>\n",
       "      <td>2019.0</td>\n",
       "      <td>18944.000000</td>\n",
       "      <td>18944.000000</td>\n",
       "    </tr>\n",
       "    <tr>\n",
       "      <th>50%</th>\n",
       "      <td>2012.000000</td>\n",
       "      <td>32.000000</td>\n",
       "      <td>32.000000</td>\n",
       "      <td>2019.0</td>\n",
       "      <td>21570.000000</td>\n",
       "      <td>21299.000000</td>\n",
       "    </tr>\n",
       "    <tr>\n",
       "      <th>75%</th>\n",
       "      <td>2016.000000</td>\n",
       "      <td>100.000000</td>\n",
       "      <td>102.000000</td>\n",
       "      <td>2019.0</td>\n",
       "      <td>23205.000000</td>\n",
       "      <td>22823.000000</td>\n",
       "    </tr>\n",
       "    <tr>\n",
       "      <th>max</th>\n",
       "      <td>2019.000000</td>\n",
       "      <td>1449.000000</td>\n",
       "      <td>1449.000000</td>\n",
       "      <td>2019.0</td>\n",
       "      <td>23704.000000</td>\n",
       "      <td>23704.000000</td>\n",
       "    </tr>\n",
       "  </tbody>\n",
       "</table>\n",
       "</div>"
      ],
      "text/plain": [
       "              Anyo        Valor   Valor_prev  max_anyo  \\\n",
       "count  7128.000000  3803.000000  3556.000000    7128.0   \n",
       "mean   2010.703704   106.770181   107.499719    2019.0   \n",
       "std       6.169740   199.408075   198.572365       0.0   \n",
       "min    2000.000000     1.000000     1.000000    2019.0   \n",
       "25%    2005.000000    12.000000    13.000000    2019.0   \n",
       "50%    2012.000000    32.000000    32.000000    2019.0   \n",
       "75%    2016.000000   100.000000   102.000000    2019.0   \n",
       "max    2019.000000  1449.000000  1449.000000    2019.0   \n",
       "\n",
       "       total_establecimientos  total_establecimientos_prev  \n",
       "count             7128.000000                  6600.000000  \n",
       "mean             20987.370370                 20673.840000  \n",
       "std               2358.657019                  2242.368602  \n",
       "min              16207.000000                 16207.000000  \n",
       "25%              18944.000000                 18944.000000  \n",
       "50%              21570.000000                 21299.000000  \n",
       "75%              23205.000000                 22823.000000  \n",
       "max              23704.000000                 23704.000000  "
      ]
     },
     "metadata": {},
     "execution_count": 2
    }
   ],
   "metadata": {}
  },
  {
   "cell_type": "code",
   "execution_count": 3,
   "source": [
    "maestro_cm29.groupby(['Isla','Municipio','Comercio'])['Valor'].sum()"
   ],
   "outputs": [
    {
     "output_type": "execute_result",
     "data": {
      "text/plain": [
       "Isla       Municipio                  Comercio    \n",
       "El Hierro  Frontera                   Bares           389.0\n",
       "                                      Comerc_vinos      0.0\n",
       "                                      Restaurantes    260.0\n",
       "           Pinar De El Hierro (El)    Bares           159.0\n",
       "                                      Comerc_vinos      0.0\n",
       "                                                      ...  \n",
       "Tenerife   Victoria De Acentejo (La)  Comerc_vinos    127.0\n",
       "                                      Restaurantes    840.0\n",
       "           Vilaflor                   Bares           306.0\n",
       "                                      Comerc_vinos     15.0\n",
       "                                      Restaurantes    423.0\n",
       "Name: Valor, Length: 267, dtype: float64"
      ]
     },
     "metadata": {},
     "execution_count": 3
    }
   ],
   "metadata": {}
  },
  {
   "cell_type": "code",
   "execution_count": 4,
   "source": [
    "maestro_cm29.groupby(['Isla','Comercio'])['Valor'].sum()"
   ],
   "outputs": [
    {
     "output_type": "execute_result",
     "data": {
      "text/plain": [
       "Isla           Comercio    \n",
       "El Hierro      Bares             1099.0\n",
       "               Comerc_vinos         7.0\n",
       "               Restaurantes       962.0\n",
       "Fuerteventura  Bares            22468.0\n",
       "               Comerc_vinos         0.0\n",
       "               Restaurantes     10125.0\n",
       "Gran Canaria   Bares            59935.0\n",
       "               Comerc_vinos        31.0\n",
       "               Restaurantes     31367.0\n",
       "La Gomera      Bares             2710.0\n",
       "               Comerc_vinos         0.0\n",
       "               Restaurantes      2366.0\n",
       "La Palma       Bares            10490.0\n",
       "               Comerc_vinos         0.0\n",
       "               Restaurantes      3237.0\n",
       "Lanzarote      Bares            30356.0\n",
       "               Comerc_vinos         0.0\n",
       "               Restaurantes     18605.0\n",
       "Tenerife       Bares           137082.0\n",
       "               Comerc_vinos       772.0\n",
       "               Restaurantes     74435.0\n",
       "Name: Valor, dtype: float64"
      ]
     },
     "metadata": {},
     "execution_count": 4
    }
   ],
   "metadata": {}
  }
 ],
 "metadata": {
  "orig_nbformat": 4,
  "language_info": {
   "name": "python",
   "version": "3.9.7",
   "mimetype": "text/x-python",
   "codemirror_mode": {
    "name": "ipython",
    "version": 3
   },
   "pygments_lexer": "ipython3",
   "nbconvert_exporter": "python",
   "file_extension": ".py"
  },
  "kernelspec": {
   "name": "python3",
   "display_name": "Python 3.9.7 64-bit ('datathon': conda)"
  },
  "interpreter": {
   "hash": "3df4161d2415b2554b6d72f588381e943bc074872f766653d5cd8dc05056e883"
  }
 },
 "nbformat": 4,
 "nbformat_minor": 2
}