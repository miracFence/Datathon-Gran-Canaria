{
 "cells": [
  {
   "cell_type": "code",
   "execution_count": 431,
   "id": "3d25e40e",
   "metadata": {},
   "outputs": [],
   "source": [
    "import pandas as pd\n",
    "import matplotlib.pyplot as plt\n",
    "import glob\n",
    "import numpy as np\n",
    "from mpl_toolkits.mplot3d import Axes3D\n",
    "import seaborn as sns\n",
    "\n"
   ]
  },
  {
   "cell_type": "markdown",
   "id": "0c99b91b",
   "metadata": {},
   "source": [
    "# datos clima"
   ]
  },
  {
   "cell_type": "code",
   "execution_count": 432,
   "id": "a581d7e1",
   "metadata": {},
   "outputs": [
    {
     "data": {
      "text/plain": [
       "<AxesSubplot:xlabel='valor'>"
      ]
     },
     "execution_count": 432,
     "metadata": {},
     "output_type": "execute_result"
    },
    {
     "data": {
      "image/png": "[encoded data removed]",
      "text/plain": [
       "<Figure size 432x288 with 1 Axes>"
      ]
     },
     "metadata": {
      "needs_background": "light"
     },
     "output_type": "display_data"
    }
   ],
   "source": [
    "datosClimaDiarios = \"../../../datos/CM05/datosClimaDiarios_.csv\"\n",
    "datosClimaDiarios_dt = pd.read_csv(datosClimaDiarios)\n",
    "datosClimaDiarios_dt.plot(x='valor',y='latitud')"
   ]
  },
  {
   "cell_type": "code",
   "execution_count": 433,
   "id": "01da18f7",
   "metadata": {},
   "outputs": [
    {
     "data": {
      "text/html": [
       "<div>\n",
       "<style scoped>\n",
       "    .dataframe tbody tr th:only-of-type {\n",
       "        vertical-align: middle;\n",
       "    }\n",
       "\n",
       "    .dataframe tbody tr th {\n",
       "        vertical-align: top;\n",
       "    }\n",
       "\n",
       "    .dataframe thead th {\n",
       "        text-align: right;\n",
       "    }\n",
       "</style>\n",
       "<table border=\"1\" class=\"dataframe\">\n",
       "  <thead>\n",
       "    <tr style=\"text-align: right;\">\n",
       "      <th></th>\n",
       "      <th>indicador</th>\n",
       "      <th>estacion</th>\n",
       "      <th>nombre</th>\n",
       "      <th>provincia</th>\n",
       "      <th>latitud</th>\n",
       "      <th>longitud</th>\n",
       "      <th>anyo</th>\n",
       "      <th>mes</th>\n",
       "      <th>dia</th>\n",
       "      <th>valor</th>\n",
       "      <th>valorPrev</th>\n",
       "      <th>ultima_fecha</th>\n",
       "    </tr>\n",
       "  </thead>\n",
       "  <tbody>\n",
       "    <tr>\n",
       "      <th>0</th>\n",
       "      <td>tmed</td>\n",
       "      <td>C249I</td>\n",
       "      <td>FUERTEVENTURA AEROPUERTO</td>\n",
       "      <td>LAS PALMAS</td>\n",
       "      <td>28.444722</td>\n",
       "      <td>-13.863056</td>\n",
       "      <td>2017</td>\n",
       "      <td>1</td>\n",
       "      <td>1</td>\n",
       "      <td>17,9</td>\n",
       "      <td>NaN</td>\n",
       "      <td>20200910</td>\n",
       "    </tr>\n",
       "    <tr>\n",
       "      <th>1</th>\n",
       "      <td>tmin</td>\n",
       "      <td>C249I</td>\n",
       "      <td>FUERTEVENTURA AEROPUERTO</td>\n",
       "      <td>LAS PALMAS</td>\n",
       "      <td>28.444722</td>\n",
       "      <td>-13.863056</td>\n",
       "      <td>2017</td>\n",
       "      <td>1</td>\n",
       "      <td>1</td>\n",
       "      <td>14,7</td>\n",
       "      <td>NaN</td>\n",
       "      <td>20200910</td>\n",
       "    </tr>\n",
       "    <tr>\n",
       "      <th>2</th>\n",
       "      <td>tmax</td>\n",
       "      <td>C249I</td>\n",
       "      <td>FUERTEVENTURA AEROPUERTO</td>\n",
       "      <td>LAS PALMAS</td>\n",
       "      <td>28.444722</td>\n",
       "      <td>-13.863056</td>\n",
       "      <td>2017</td>\n",
       "      <td>1</td>\n",
       "      <td>1</td>\n",
       "      <td>21,1</td>\n",
       "      <td>NaN</td>\n",
       "      <td>20200910</td>\n",
       "    </tr>\n",
       "    <tr>\n",
       "      <th>3</th>\n",
       "      <td>prec</td>\n",
       "      <td>C249I</td>\n",
       "      <td>FUERTEVENTURA AEROPUERTO</td>\n",
       "      <td>LAS PALMAS</td>\n",
       "      <td>28.444722</td>\n",
       "      <td>-13.863056</td>\n",
       "      <td>2017</td>\n",
       "      <td>1</td>\n",
       "      <td>1</td>\n",
       "      <td>0,0</td>\n",
       "      <td>NaN</td>\n",
       "      <td>20200910</td>\n",
       "    </tr>\n",
       "    <tr>\n",
       "      <th>4</th>\n",
       "      <td>velmedia</td>\n",
       "      <td>C249I</td>\n",
       "      <td>FUERTEVENTURA AEROPUERTO</td>\n",
       "      <td>LAS PALMAS</td>\n",
       "      <td>28.444722</td>\n",
       "      <td>-13.863056</td>\n",
       "      <td>2017</td>\n",
       "      <td>1</td>\n",
       "      <td>1</td>\n",
       "      <td>8,1</td>\n",
       "      <td>NaN</td>\n",
       "      <td>20200910</td>\n",
       "    </tr>\n",
       "  </tbody>\n",
       "</table>\n",
       "</div>"
      ],
      "text/plain": [
       "  indicador estacion                    nombre   provincia    latitud  \\\n",
       "0      tmed    C249I  FUERTEVENTURA AEROPUERTO  LAS PALMAS  28.444722   \n",
       "1      tmin    C249I  FUERTEVENTURA AEROPUERTO  LAS PALMAS  28.444722   \n",
       "2      tmax    C249I  FUERTEVENTURA AEROPUERTO  LAS PALMAS  28.444722   \n",
       "3      prec    C249I  FUERTEVENTURA AEROPUERTO  LAS PALMAS  28.444722   \n",
       "4  velmedia    C249I  FUERTEVENTURA AEROPUERTO  LAS PALMAS  28.444722   \n",
       "\n",
       "    longitud  anyo  mes  dia valor valorPrev  ultima_fecha  \n",
       "0 -13.863056  2017    1    1  17,9       NaN      20200910  \n",
       "1 -13.863056  2017    1    1  14,7       NaN      20200910  \n",
       "2 -13.863056  2017    1    1  21,1       NaN      20200910  \n",
       "3 -13.863056  2017    1    1   0,0       NaN      20200910  \n",
       "4 -13.863056  2017    1    1   8,1       NaN      20200910  "
      ]
     },
     "execution_count": 433,
     "metadata": {},
     "output_type": "execute_result"
    }
   ],
   "source": [
    "datosClimaDiarios_dt.head()"
   ]
  },
  {
   "cell_type": "code",
   "execution_count": 434,
   "id": "12f53bab",
   "metadata": {},
   "outputs": [
    {
     "name": "stdout",
     "output_type": "stream",
     "text": [
      "             latitud       longitud           anyo            mes  \\\n",
      "count  191192.000000  191192.000000  191192.000000  191192.000000   \n",
      "mean       28.239203     -16.031765    2018.382903       6.194276   \n",
      "std         0.317785       1.222138       1.074161       3.358432   \n",
      "min        27.735833     -17.915278    2017.000000       1.000000   \n",
      "25%        28.046944     -16.561111    2017.000000       3.000000   \n",
      "50%        28.308889     -16.329444    2018.000000       6.000000   \n",
      "75%        28.463333     -15.416111    2019.000000       9.000000   \n",
      "max        28.951944     -13.600278    2020.000000      12.000000   \n",
      "\n",
      "                 dia  ultima_fecha  \n",
      "count  191192.000000      191192.0  \n",
      "mean       15.643332    20200910.0  \n",
      "std         8.817706           0.0  \n",
      "min         1.000000    20200910.0  \n",
      "25%         8.000000    20200910.0  \n",
      "50%        16.000000    20200910.0  \n",
      "75%        23.000000    20200910.0  \n",
      "max        31.000000    20200910.0  \n"
     ]
    }
   ],
   "source": [
    "print(datosClimaDiarios_dt.describe())"
   ]
  },
  {
   "cell_type": "code",
   "execution_count": 435,
   "id": "61767bce",
   "metadata": {},
   "outputs": [
    {
     "data": {
      "text/plain": [
       "indicador        object\n",
       "estacion         object\n",
       "nombre           object\n",
       "provincia        object\n",
       "latitud         float64\n",
       "longitud        float64\n",
       "anyo              int64\n",
       "mes               int64\n",
       "dia               int64\n",
       "valor            object\n",
       "valorPrev        object\n",
       "ultima_fecha      int64\n",
       "dtype: object"
      ]
     },
     "execution_count": 435,
     "metadata": {},
     "output_type": "execute_result"
    }
   ],
   "source": [
    "datosClimaDiarios_dt.dtypes"
   ]
  },
  {
   "cell_type": "code",
   "execution_count": 436,
   "id": "e8c26dd8",
   "metadata": {},
   "outputs": [],
   "source": [
    "datosClimaDiarios_dt = datosClimaDiarios_dt[datosClimaDiarios_dt.indicador != 'tmin']\n",
    "datosClimaDiarios_dt = datosClimaDiarios_dt[datosClimaDiarios_dt.indicador != 'tmax']\n",
    "datosClimaDiarios_dt = datosClimaDiarios_dt[datosClimaDiarios_dt.indicador != 'prec']\n",
    "datosClimaDiarios_dt = datosClimaDiarios_dt[datosClimaDiarios_dt.indicador != 'sol']\n",
    "datosClimaDiarios_dt = datosClimaDiarios_dt[datosClimaDiarios_dt.indicador != 'velmedia']\n",
    "datosClimaDiarios_dt = datosClimaDiarios_dt[datosClimaDiarios_dt.indicador != 'presMax']\n",
    "datosClimaDiarios_dt = datosClimaDiarios_dt[datosClimaDiarios_dt.indicador != 'presMin']"
   ]
  },
  {
   "cell_type": "markdown",
   "id": "40e25b5b",
   "metadata": {},
   "source": [
    "# Datos Aeropuertos"
   ]
  },
  {
   "cell_type": "code",
   "execution_count": 437,
   "id": "e6d73ddc",
   "metadata": {},
   "outputs": [
    {
     "data": {
      "text/html": [
       "<div>\n",
       "<style scoped>\n",
       "    .dataframe tbody tr th:only-of-type {\n",
       "        vertical-align: middle;\n",
       "    }\n",
       "\n",
       "    .dataframe tbody tr th {\n",
       "        vertical-align: top;\n",
       "    }\n",
       "\n",
       "    .dataframe thead th {\n",
       "        text-align: right;\n",
       "    }\n",
       "</style>\n",
       "<table border=\"1\" class=\"dataframe\">\n",
       "  <thead>\n",
       "    <tr style=\"text-align: right;\">\n",
       "      <th></th>\n",
       "      <th>indicador</th>\n",
       "      <th>estacion</th>\n",
       "      <th>nombre</th>\n",
       "      <th>provincia</th>\n",
       "      <th>latitud</th>\n",
       "      <th>longitud</th>\n",
       "      <th>anyo</th>\n",
       "      <th>mes</th>\n",
       "      <th>dia</th>\n",
       "      <th>valor</th>\n",
       "    </tr>\n",
       "  </thead>\n",
       "  <tbody>\n",
       "    <tr>\n",
       "      <th>0</th>\n",
       "      <td>tmed</td>\n",
       "      <td>C249I</td>\n",
       "      <td>FUERTEVENTURA AEROPUERTO</td>\n",
       "      <td>LAS PALMAS</td>\n",
       "      <td>28.444722</td>\n",
       "      <td>-13.863056</td>\n",
       "      <td>2015</td>\n",
       "      <td>1</td>\n",
       "      <td>1</td>\n",
       "      <td>17.9</td>\n",
       "    </tr>\n",
       "    <tr>\n",
       "      <th>1</th>\n",
       "      <td>tmin</td>\n",
       "      <td>C249I</td>\n",
       "      <td>FUERTEVENTURA AEROPUERTO</td>\n",
       "      <td>LAS PALMAS</td>\n",
       "      <td>28.444722</td>\n",
       "      <td>-13.863056</td>\n",
       "      <td>2015</td>\n",
       "      <td>1</td>\n",
       "      <td>1</td>\n",
       "      <td>16.8</td>\n",
       "    </tr>\n",
       "    <tr>\n",
       "      <th>2</th>\n",
       "      <td>tmax</td>\n",
       "      <td>C249I</td>\n",
       "      <td>FUERTEVENTURA AEROPUERTO</td>\n",
       "      <td>LAS PALMAS</td>\n",
       "      <td>28.444722</td>\n",
       "      <td>-13.863056</td>\n",
       "      <td>2015</td>\n",
       "      <td>1</td>\n",
       "      <td>1</td>\n",
       "      <td>19.0</td>\n",
       "    </tr>\n",
       "    <tr>\n",
       "      <th>3</th>\n",
       "      <td>prec</td>\n",
       "      <td>C249I</td>\n",
       "      <td>FUERTEVENTURA AEROPUERTO</td>\n",
       "      <td>LAS PALMAS</td>\n",
       "      <td>28.444722</td>\n",
       "      <td>-13.863056</td>\n",
       "      <td>2015</td>\n",
       "      <td>1</td>\n",
       "      <td>1</td>\n",
       "      <td>0.0</td>\n",
       "    </tr>\n",
       "    <tr>\n",
       "      <th>4</th>\n",
       "      <td>velmedia</td>\n",
       "      <td>C249I</td>\n",
       "      <td>FUERTEVENTURA AEROPUERTO</td>\n",
       "      <td>LAS PALMAS</td>\n",
       "      <td>28.444722</td>\n",
       "      <td>-13.863056</td>\n",
       "      <td>2015</td>\n",
       "      <td>1</td>\n",
       "      <td>1</td>\n",
       "      <td>4.7</td>\n",
       "    </tr>\n",
       "  </tbody>\n",
       "</table>\n",
       "</div>"
      ],
      "text/plain": [
       "  indicador estacion                    nombre   provincia    latitud  \\\n",
       "0      tmed    C249I  FUERTEVENTURA AEROPUERTO  LAS PALMAS  28.444722   \n",
       "1      tmin    C249I  FUERTEVENTURA AEROPUERTO  LAS PALMAS  28.444722   \n",
       "2      tmax    C249I  FUERTEVENTURA AEROPUERTO  LAS PALMAS  28.444722   \n",
       "3      prec    C249I  FUERTEVENTURA AEROPUERTO  LAS PALMAS  28.444722   \n",
       "4  velmedia    C249I  FUERTEVENTURA AEROPUERTO  LAS PALMAS  28.444722   \n",
       "\n",
       "    longitud  anyo  mes  dia  valor  \n",
       "0 -13.863056  2015    1    1   17.9  \n",
       "1 -13.863056  2015    1    1   16.8  \n",
       "2 -13.863056  2015    1    1   19.0  \n",
       "3 -13.863056  2015    1    1    0.0  \n",
       "4 -13.863056  2015    1    1    4.7  "
      ]
     },
     "execution_count": 437,
     "metadata": {},
     "output_type": "execute_result"
    }
   ],
   "source": [
    "maestro_cm05_20150101_20151231 = \"../../../datos/CM05/maestro_cm05_20150101_20151231.csv\"\n",
    "maestro_cm05_20150101_20151231_dt = pd.read_csv(maestro_cm05_20150101_20151231)\n",
    "maestro_cm05_20150101_20151231_dt.head()"
   ]
  },
  {
   "cell_type": "code",
   "execution_count": 438,
   "id": "a41659c1",
   "metadata": {},
   "outputs": [
    {
     "ename": "KeyError",
     "evalue": "'Cannot get right slice bound for non-unique label: 464'",
     "output_type": "error",
     "traceback": [
      "\u001b[0;31m---------------------------------------------------------------------------\u001b[0m",
      "\u001b[0;31mKeyError\u001b[0m                                  Traceback (most recent call last)",
      "\u001b[0;32m/tmp/ipykernel_48829/2778694183.py\u001b[0m in \u001b[0;36m<module>\u001b[0;34m\u001b[0m\n\u001b[1;32m     11\u001b[0m \u001b[0mcombined_amount_dt\u001b[0m \u001b[0;34m=\u001b[0m \u001b[0mcombined_amount_dt\u001b[0m\u001b[0;34m[\u001b[0m\u001b[0mcombined_amount_dt\u001b[0m\u001b[0;34m.\u001b[0m\u001b[0mmes\u001b[0m \u001b[0;34m==\u001b[0m \u001b[0;36m2\u001b[0m\u001b[0;34m]\u001b[0m\u001b[0;34m\u001b[0m\u001b[0;34m\u001b[0m\u001b[0m\n\u001b[1;32m     12\u001b[0m \u001b[0;31m#combined_amount_dt = combined_amount_dt[combined_amount_dt.index < 465]\u001b[0m\u001b[0;34m\u001b[0m\u001b[0;34m\u001b[0m\u001b[0m\n\u001b[0;32m---> 13\u001b[0;31m \u001b[0mcombined_amount_dt\u001b[0m \u001b[0;34m=\u001b[0m \u001b[0mcombined_amount_dt\u001b[0m\u001b[0;34m.\u001b[0m\u001b[0mloc\u001b[0m\u001b[0;34m[\u001b[0m\u001b[0;34m:\u001b[0m\u001b[0;36m464\u001b[0m\u001b[0;34m]\u001b[0m\u001b[0;34m\u001b[0m\u001b[0;34m\u001b[0m\u001b[0m\n\u001b[0m\u001b[1;32m     14\u001b[0m \u001b[0;31m#combined_amount_dt.drop(combined_amount_dt.index[240:])\u001b[0m\u001b[0;34m\u001b[0m\u001b[0;34m\u001b[0m\u001b[0m\n\u001b[1;32m     15\u001b[0m \u001b[0;34m\u001b[0m\u001b[0m\n",
      "\u001b[0;32m~/.local/lib/python3.9/site-packages/pandas/core/indexing.py\u001b[0m in \u001b[0;36m__getitem__\u001b[0;34m(self, key)\u001b[0m\n\u001b[1;32m    929\u001b[0m \u001b[0;34m\u001b[0m\u001b[0m\n\u001b[1;32m    930\u001b[0m             \u001b[0mmaybe_callable\u001b[0m \u001b[0;34m=\u001b[0m \u001b[0mcom\u001b[0m\u001b[0;34m.\u001b[0m\u001b[0mapply_if_callable\u001b[0m\u001b[0;34m(\u001b[0m\u001b[0mkey\u001b[0m\u001b[0;34m,\u001b[0m \u001b[0mself\u001b[0m\u001b[0;34m.\u001b[0m\u001b[0mobj\u001b[0m\u001b[0;34m)\u001b[0m\u001b[0;34m\u001b[0m\u001b[0;34m\u001b[0m\u001b[0m\n\u001b[0;32m--> 931\u001b[0;31m             \u001b[0;32mreturn\u001b[0m \u001b[0mself\u001b[0m\u001b[0;34m.\u001b[0m\u001b[0m_getitem_axis\u001b[0m\u001b[0;34m(\u001b[0m\u001b[0mmaybe_callable\u001b[0m\u001b[0;34m,\u001b[0m \u001b[0maxis\u001b[0m\u001b[0;34m=\u001b[0m\u001b[0maxis\u001b[0m\u001b[0;34m)\u001b[0m\u001b[0;34m\u001b[0m\u001b[0;34m\u001b[0m\u001b[0m\n\u001b[0m\u001b[1;32m    932\u001b[0m \u001b[0;34m\u001b[0m\u001b[0m\n\u001b[1;32m    933\u001b[0m     \u001b[0;32mdef\u001b[0m \u001b[0m_is_scalar_access\u001b[0m\u001b[0;34m(\u001b[0m\u001b[0mself\u001b[0m\u001b[0;34m,\u001b[0m \u001b[0mkey\u001b[0m\u001b[0;34m:\u001b[0m \u001b[0mtuple\u001b[0m\u001b[0;34m)\u001b[0m\u001b[0;34m:\u001b[0m\u001b[0;34m\u001b[0m\u001b[0;34m\u001b[0m\u001b[0m\n",
      "\u001b[0;32m~/.local/lib/python3.9/site-packages/pandas/core/indexing.py\u001b[0m in \u001b[0;36m_getitem_axis\u001b[0;34m(self, key, axis)\u001b[0m\n\u001b[1;32m   1140\u001b[0m         \u001b[0;32mif\u001b[0m \u001b[0misinstance\u001b[0m\u001b[0;34m(\u001b[0m\u001b[0mkey\u001b[0m\u001b[0;34m,\u001b[0m \u001b[0mslice\u001b[0m\u001b[0;34m)\u001b[0m\u001b[0;34m:\u001b[0m\u001b[0;34m\u001b[0m\u001b[0;34m\u001b[0m\u001b[0m\n\u001b[1;32m   1141\u001b[0m             \u001b[0mself\u001b[0m\u001b[0;34m.\u001b[0m\u001b[0m_validate_key\u001b[0m\u001b[0;34m(\u001b[0m\u001b[0mkey\u001b[0m\u001b[0;34m,\u001b[0m \u001b[0maxis\u001b[0m\u001b[0;34m)\u001b[0m\u001b[0;34m\u001b[0m\u001b[0;34m\u001b[0m\u001b[0m\n\u001b[0;32m-> 1142\u001b[0;31m             \u001b[0;32mreturn\u001b[0m \u001b[0mself\u001b[0m\u001b[0;34m.\u001b[0m\u001b[0m_get_slice_axis\u001b[0m\u001b[0;34m(\u001b[0m\u001b[0mkey\u001b[0m\u001b[0;34m,\u001b[0m \u001b[0maxis\u001b[0m\u001b[0;34m=\u001b[0m\u001b[0maxis\u001b[0m\u001b[0;34m)\u001b[0m\u001b[0;34m\u001b[0m\u001b[0;34m\u001b[0m\u001b[0m\n\u001b[0m\u001b[1;32m   1143\u001b[0m         \u001b[0;32melif\u001b[0m \u001b[0mcom\u001b[0m\u001b[0;34m.\u001b[0m\u001b[0mis_bool_indexer\u001b[0m\u001b[0;34m(\u001b[0m\u001b[0mkey\u001b[0m\u001b[0;34m)\u001b[0m\u001b[0;34m:\u001b[0m\u001b[0;34m\u001b[0m\u001b[0;34m\u001b[0m\u001b[0m\n\u001b[1;32m   1144\u001b[0m             \u001b[0;32mreturn\u001b[0m \u001b[0mself\u001b[0m\u001b[0;34m.\u001b[0m\u001b[0m_getbool_axis\u001b[0m\u001b[0;34m(\u001b[0m\u001b[0mkey\u001b[0m\u001b[0;34m,\u001b[0m \u001b[0maxis\u001b[0m\u001b[0;34m=\u001b[0m\u001b[0maxis\u001b[0m\u001b[0;34m)\u001b[0m\u001b[0;34m\u001b[0m\u001b[0;34m\u001b[0m\u001b[0m\n",
      "\u001b[0;32m~/.local/lib/python3.9/site-packages/pandas/core/indexing.py\u001b[0m in \u001b[0;36m_get_slice_axis\u001b[0;34m(self, slice_obj, axis)\u001b[0m\n\u001b[1;32m   1174\u001b[0m \u001b[0;34m\u001b[0m\u001b[0m\n\u001b[1;32m   1175\u001b[0m         \u001b[0mlabels\u001b[0m \u001b[0;34m=\u001b[0m \u001b[0mobj\u001b[0m\u001b[0;34m.\u001b[0m\u001b[0m_get_axis\u001b[0m\u001b[0;34m(\u001b[0m\u001b[0maxis\u001b[0m\u001b[0;34m)\u001b[0m\u001b[0;34m\u001b[0m\u001b[0;34m\u001b[0m\u001b[0m\n\u001b[0;32m-> 1176\u001b[0;31m         \u001b[0mindexer\u001b[0m \u001b[0;34m=\u001b[0m \u001b[0mlabels\u001b[0m\u001b[0;34m.\u001b[0m\u001b[0mslice_indexer\u001b[0m\u001b[0;34m(\u001b[0m\u001b[0mslice_obj\u001b[0m\u001b[0;34m.\u001b[0m\u001b[0mstart\u001b[0m\u001b[0;34m,\u001b[0m \u001b[0mslice_obj\u001b[0m\u001b[0;34m.\u001b[0m\u001b[0mstop\u001b[0m\u001b[0;34m,\u001b[0m \u001b[0mslice_obj\u001b[0m\u001b[0;34m.\u001b[0m\u001b[0mstep\u001b[0m\u001b[0;34m)\u001b[0m\u001b[0;34m\u001b[0m\u001b[0;34m\u001b[0m\u001b[0m\n\u001b[0m\u001b[1;32m   1177\u001b[0m \u001b[0;34m\u001b[0m\u001b[0m\n\u001b[1;32m   1178\u001b[0m         \u001b[0;32mif\u001b[0m \u001b[0misinstance\u001b[0m\u001b[0;34m(\u001b[0m\u001b[0mindexer\u001b[0m\u001b[0;34m,\u001b[0m \u001b[0mslice\u001b[0m\u001b[0;34m)\u001b[0m\u001b[0;34m:\u001b[0m\u001b[0;34m\u001b[0m\u001b[0;34m\u001b[0m\u001b[0m\n",
      "\u001b[0;32m~/.local/lib/python3.9/site-packages/pandas/core/indexes/base.py\u001b[0m in \u001b[0;36mslice_indexer\u001b[0;34m(self, start, end, step, kind)\u001b[0m\n\u001b[1;32m   5683\u001b[0m         \u001b[0mslice\u001b[0m\u001b[0;34m(\u001b[0m\u001b[0;36m1\u001b[0m\u001b[0;34m,\u001b[0m \u001b[0;36m3\u001b[0m\u001b[0;34m,\u001b[0m \u001b[0;32mNone\u001b[0m\u001b[0;34m)\u001b[0m\u001b[0;34m\u001b[0m\u001b[0;34m\u001b[0m\u001b[0m\n\u001b[1;32m   5684\u001b[0m         \"\"\"\n\u001b[0;32m-> 5685\u001b[0;31m         \u001b[0mstart_slice\u001b[0m\u001b[0;34m,\u001b[0m \u001b[0mend_slice\u001b[0m \u001b[0;34m=\u001b[0m \u001b[0mself\u001b[0m\u001b[0;34m.\u001b[0m\u001b[0mslice_locs\u001b[0m\u001b[0;34m(\u001b[0m\u001b[0mstart\u001b[0m\u001b[0;34m,\u001b[0m \u001b[0mend\u001b[0m\u001b[0;34m,\u001b[0m \u001b[0mstep\u001b[0m\u001b[0;34m=\u001b[0m\u001b[0mstep\u001b[0m\u001b[0;34m)\u001b[0m\u001b[0;34m\u001b[0m\u001b[0;34m\u001b[0m\u001b[0m\n\u001b[0m\u001b[1;32m   5686\u001b[0m \u001b[0;34m\u001b[0m\u001b[0m\n\u001b[1;32m   5687\u001b[0m         \u001b[0;31m# return a slice\u001b[0m\u001b[0;34m\u001b[0m\u001b[0;34m\u001b[0m\u001b[0m\n",
      "\u001b[0;32m~/.local/lib/python3.9/site-packages/pandas/core/indexes/base.py\u001b[0m in \u001b[0;36mslice_locs\u001b[0;34m(self, start, end, step, kind)\u001b[0m\n\u001b[1;32m   5891\u001b[0m         \u001b[0mend_slice\u001b[0m \u001b[0;34m=\u001b[0m \u001b[0;32mNone\u001b[0m\u001b[0;34m\u001b[0m\u001b[0;34m\u001b[0m\u001b[0m\n\u001b[1;32m   5892\u001b[0m         \u001b[0;32mif\u001b[0m \u001b[0mend\u001b[0m \u001b[0;32mis\u001b[0m \u001b[0;32mnot\u001b[0m \u001b[0;32mNone\u001b[0m\u001b[0;34m:\u001b[0m\u001b[0;34m\u001b[0m\u001b[0;34m\u001b[0m\u001b[0m\n\u001b[0;32m-> 5893\u001b[0;31m             \u001b[0mend_slice\u001b[0m \u001b[0;34m=\u001b[0m \u001b[0mself\u001b[0m\u001b[0;34m.\u001b[0m\u001b[0mget_slice_bound\u001b[0m\u001b[0;34m(\u001b[0m\u001b[0mend\u001b[0m\u001b[0;34m,\u001b[0m \u001b[0;34m\"right\"\u001b[0m\u001b[0;34m)\u001b[0m\u001b[0;34m\u001b[0m\u001b[0;34m\u001b[0m\u001b[0m\n\u001b[0m\u001b[1;32m   5894\u001b[0m         \u001b[0;32mif\u001b[0m \u001b[0mend_slice\u001b[0m \u001b[0;32mis\u001b[0m \u001b[0;32mNone\u001b[0m\u001b[0;34m:\u001b[0m\u001b[0;34m\u001b[0m\u001b[0;34m\u001b[0m\u001b[0m\n\u001b[1;32m   5895\u001b[0m             \u001b[0mend_slice\u001b[0m \u001b[0;34m=\u001b[0m \u001b[0mlen\u001b[0m\u001b[0;34m(\u001b[0m\u001b[0mself\u001b[0m\u001b[0;34m)\u001b[0m\u001b[0;34m\u001b[0m\u001b[0;34m\u001b[0m\u001b[0m\n",
      "\u001b[0;32m~/.local/lib/python3.9/site-packages/pandas/core/indexes/base.py\u001b[0m in \u001b[0;36mget_slice_bound\u001b[0;34m(self, label, side, kind)\u001b[0m\n\u001b[1;32m   5817\u001b[0m                 )\n\u001b[1;32m   5818\u001b[0m             \u001b[0;32mif\u001b[0m \u001b[0misinstance\u001b[0m\u001b[0;34m(\u001b[0m\u001b[0mslc\u001b[0m\u001b[0;34m,\u001b[0m \u001b[0mnp\u001b[0m\u001b[0;34m.\u001b[0m\u001b[0mndarray\u001b[0m\u001b[0;34m)\u001b[0m\u001b[0;34m:\u001b[0m\u001b[0;34m\u001b[0m\u001b[0;34m\u001b[0m\u001b[0m\n\u001b[0;32m-> 5819\u001b[0;31m                 raise KeyError(\n\u001b[0m\u001b[1;32m   5820\u001b[0m                     \u001b[0;34mf\"Cannot get {side} slice bound for non-unique \"\u001b[0m\u001b[0;34m\u001b[0m\u001b[0;34m\u001b[0m\u001b[0m\n\u001b[1;32m   5821\u001b[0m                     \u001b[0;34mf\"label: {repr(original_label)}\"\u001b[0m\u001b[0;34m\u001b[0m\u001b[0;34m\u001b[0m\u001b[0m\n",
      "\u001b[0;31mKeyError\u001b[0m: 'Cannot get right slice bound for non-unique label: 464'"
     ]
    }
   ],
   "source": [
    "listAllAmountFiles = glob.glob('../../../datos/CM05/maestro_cm05_*.csv')\n",
    "combined_amount_dt = pd.concat([pd.read_csv(f) for f in listAllAmountFiles ])\n",
    "combined_amount_dt = combined_amount_dt[combined_amount_dt.indicador != 'tmin']\n",
    "combined_amount_dt = combined_amount_dt[combined_amount_dt.indicador != 'tmax']\n",
    "combined_amount_dt = combined_amount_dt[combined_amount_dt.indicador != 'prec']\n",
    "combined_amount_dt = combined_amount_dt[combined_amount_dt.indicador != 'sol']\n",
    "combined_amount_dt = combined_amount_dt[combined_amount_dt.indicador != 'velmedia']\n",
    "combined_amount_dt = combined_amount_dt[combined_amount_dt.indicador != 'presMax']\n",
    "combined_amount_dt = combined_amount_dt[combined_amount_dt.indicador != 'presMin']\n",
    "combined_amount_dt = combined_amount_dt[combined_amount_dt.anyo != 2018]\n",
    "combined_amount_dt = combined_amount_dt[combined_amount_dt.mes == 2]\n",
    "#combined_amount_dt = combined_amount_dt[combined_amount_dt.index < 465]\n",
    "combined_amount_dt = combined_amount_dt.loc[:464]\n",
    "#combined_amount_dt.drop(combined_amount_dt.index[240:])\n",
    "\n",
    "print(combined_amount_dt.describe())"
   ]
  },
  {
   "cell_type": "code",
   "execution_count": null,
   "id": "3f1364e2",
   "metadata": {},
   "outputs": [],
   "source": [
    "combined_amount_dt.dtypes"
   ]
  },
  {
   "cell_type": "code",
   "execution_count": null,
   "id": "bf2a126a",
   "metadata": {},
   "outputs": [],
   "source": [
    "combined_amount_dt.head(30)"
   ]
  },
  {
   "cell_type": "code",
   "execution_count": null,
   "id": "7094a85c",
   "metadata": {},
   "outputs": [],
   "source": [
    "fig = plt.figure()\n",
    "# syntax for 3-D projection\n",
    "ax = plt.axes(projection ='3d')\n",
    "# defining all 3 axes\n",
    "z = combined_amount_dt['dia']\n",
    "x = combined_amount_dt['valor']\n",
    "y = combined_amount_dt['latitud']\n",
    "#ax.zlabel(None)\n",
    "ax.set_xlabel('valor')\n",
    "ax.set_zlabel('dia')\n",
    "ax.set_ylabel('latitud')\n",
    "# plotting\n",
    "ax.plot3D(x, y, z, 'green')\n",
    "ax.set_title('3D line plot')\n",
    "plt.show()"
   ]
  }
 ],
 "metadata": {
  "interpreter": {
   "hash": "3df4161d2415b2554b6d72f588381e943bc074872f766653d5cd8dc05056e883"
  },
  "kernelspec": {
   "display_name": "Python 3 (ipykernel)",
   "language": "python",
   "name": "python3"
  },
  "language_info": {
   "codemirror_mode": {
    "name": "ipython",
    "version": 3
   },
   "file_extension": ".py",
   "mimetype": "text/x-python",
   "name": "python",
   "nbconvert_exporter": "python",
   "pygments_lexer": "ipython3",
   "version": "3.9.7"
  }
 },
 "nbformat": 4,
 "nbformat_minor": 5
}
