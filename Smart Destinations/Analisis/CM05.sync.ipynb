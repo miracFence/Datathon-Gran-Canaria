{
 "cells": [
  {
   "cell_type": "code",
   "execution_count": 1,
   "source": [
    "import pandas as pd\n",
    "import matplotlib.pyplot as plt\n",
    "import glob\n",
    "import numpy as np\n",
    "from mpl_toolkits.mplot3d import Axes3D\n",
    "import seaborn as sns\n",
    "\n"
   ],
   "outputs": [],
   "metadata": {}
  },
  {
   "cell_type": "markdown",
   "source": [
    "# datos clima"
   ],
   "metadata": {}
  },
  {
   "cell_type": "code",
   "execution_count": 2,
   "source": [
    "datosClimaDiarios = \"../../../datos/CM05/datosClimaDiarios_.csv\"\n",
    "datosClimaDiarios_dt = pd.read_csv(datosClimaDiarios)\n",
    "datosClimaDiarios_dt.plot(x='valor',y='latitud')"
   ],
   "outputs": [
    {
     "output_type": "execute_result",
     "data": {
      "text/plain": [
       "<AxesSubplot:xlabel='valor'>"
      ]
     },
     "metadata": {},
     "execution_count": 2
    },
    {
     "output_type": "display_data",
     "data": {
      "image/png": "[encoded data removed]",
      "text/plain": [
       "<Figure size 432x288 with 1 Axes>"
      ]
     },
     "metadata": {
      "needs_background": "light"
     }
    }
   ],
   "metadata": {}
  },
  {
   "cell_type": "code",
   "execution_count": 3,
   "source": [
    "datosClimaDiarios_dt = datosClimaDiarios_dt[datosClimaDiarios_dt.indicador != 'tmin']\n",
    "datosClimaDiarios_dt = datosClimaDiarios_dt[datosClimaDiarios_dt.indicador != 'tmax']\n",
    "datosClimaDiarios_dt = datosClimaDiarios_dt[datosClimaDiarios_dt.indicador != 'prec']\n",
    "datosClimaDiarios_dt = datosClimaDiarios_dt[datosClimaDiarios_dt.indicador != 'sol']\n",
    "datosClimaDiarios_dt = datosClimaDiarios_dt[datosClimaDiarios_dt.indicador != 'velmedia']\n",
    "datosClimaDiarios_dt = datosClimaDiarios_dt[datosClimaDiarios_dt.indicador != 'presMax']\n",
    "datosClimaDiarios_dt = datosClimaDiarios_dt[datosClimaDiarios_dt.indicador != 'presMin']\n",
    "print(datosClimaDiarios_dt.describe())"
   ],
   "outputs": [
    {
     "output_type": "stream",
     "name": "stdout",
     "text": [
      "            latitud      longitud          anyo           mes           dia  \\\n",
      "count  23899.000000  23899.000000  23899.000000  23899.000000  23899.000000   \n",
      "mean      28.239203    -16.031765   2018.382903      6.194276     15.643332   \n",
      "std        0.317791      1.222160      1.074181      3.358493      8.817867   \n",
      "min       27.735833    -17.915278   2017.000000      1.000000      1.000000   \n",
      "25%       28.046944    -16.561111   2017.000000      3.000000      8.000000   \n",
      "50%       28.308889    -16.329444   2018.000000      6.000000     16.000000   \n",
      "75%       28.463333    -15.416111   2019.000000      9.000000     23.000000   \n",
      "max       28.951944    -13.600278   2020.000000     12.000000     31.000000   \n",
      "\n",
      "       ultima_fecha  \n",
      "count       23899.0  \n",
      "mean     20200910.0  \n",
      "std             0.0  \n",
      "min      20200910.0  \n",
      "25%      20200910.0  \n",
      "50%      20200910.0  \n",
      "75%      20200910.0  \n",
      "max      20200910.0  \n"
     ]
    }
   ],
   "metadata": {}
  },
  {
   "cell_type": "markdown",
   "source": [
    "# Datos Aeropuertos"
   ],
   "metadata": {}
  },
  {
   "cell_type": "code",
   "execution_count": 4,
   "source": [
    "maestro_cm05_20150101_20151231 = \"../../../datos/CM05/maestro_cm05_20150101_20151231.csv\"\n",
    "maestro_cm05_20150101_20151231_dt = pd.read_csv(maestro_cm05_20150101_20151231)\n",
    "maestro_cm05_20150101_20151231_dt.head()"
   ],
   "outputs": [
    {
     "output_type": "execute_result",
     "data": {
      "text/html": [
       "<div>\n",
       "<style scoped>\n",
       "    .dataframe tbody tr th:only-of-type {\n",
       "        vertical-align: middle;\n",
       "    }\n",
       "\n",
       "    .dataframe tbody tr th {\n",
       "        vertical-align: top;\n",
       "    }\n",
       "\n",
       "    .dataframe thead th {\n",
       "        text-align: right;\n",
       "    }\n",
       "</style>\n",
       "<table border=\"1\" class=\"dataframe\">\n",
       "  <thead>\n",
       "    <tr style=\"text-align: right;\">\n",
       "      <th></th>\n",
       "      <th>indicador</th>\n",
       "      <th>estacion</th>\n",
       "      <th>nombre</th>\n",
       "      <th>provincia</th>\n",
       "      <th>latitud</th>\n",
       "      <th>longitud</th>\n",
       "      <th>anyo</th>\n",
       "      <th>mes</th>\n",
       "      <th>dia</th>\n",
       "      <th>valor</th>\n",
       "    </tr>\n",
       "  </thead>\n",
       "  <tbody>\n",
       "    <tr>\n",
       "      <th>0</th>\n",
       "      <td>tmed</td>\n",
       "      <td>C249I</td>\n",
       "      <td>FUERTEVENTURA AEROPUERTO</td>\n",
       "      <td>LAS PALMAS</td>\n",
       "      <td>28.444722</td>\n",
       "      <td>-13.863056</td>\n",
       "      <td>2015</td>\n",
       "      <td>1</td>\n",
       "      <td>1</td>\n",
       "      <td>17.9</td>\n",
       "    </tr>\n",
       "    <tr>\n",
       "      <th>1</th>\n",
       "      <td>tmin</td>\n",
       "      <td>C249I</td>\n",
       "      <td>FUERTEVENTURA AEROPUERTO</td>\n",
       "      <td>LAS PALMAS</td>\n",
       "      <td>28.444722</td>\n",
       "      <td>-13.863056</td>\n",
       "      <td>2015</td>\n",
       "      <td>1</td>\n",
       "      <td>1</td>\n",
       "      <td>16.8</td>\n",
       "    </tr>\n",
       "    <tr>\n",
       "      <th>2</th>\n",
       "      <td>tmax</td>\n",
       "      <td>C249I</td>\n",
       "      <td>FUERTEVENTURA AEROPUERTO</td>\n",
       "      <td>LAS PALMAS</td>\n",
       "      <td>28.444722</td>\n",
       "      <td>-13.863056</td>\n",
       "      <td>2015</td>\n",
       "      <td>1</td>\n",
       "      <td>1</td>\n",
       "      <td>19.0</td>\n",
       "    </tr>\n",
       "    <tr>\n",
       "      <th>3</th>\n",
       "      <td>prec</td>\n",
       "      <td>C249I</td>\n",
       "      <td>FUERTEVENTURA AEROPUERTO</td>\n",
       "      <td>LAS PALMAS</td>\n",
       "      <td>28.444722</td>\n",
       "      <td>-13.863056</td>\n",
       "      <td>2015</td>\n",
       "      <td>1</td>\n",
       "      <td>1</td>\n",
       "      <td>0.0</td>\n",
       "    </tr>\n",
       "    <tr>\n",
       "      <th>4</th>\n",
       "      <td>velmedia</td>\n",
       "      <td>C249I</td>\n",
       "      <td>FUERTEVENTURA AEROPUERTO</td>\n",
       "      <td>LAS PALMAS</td>\n",
       "      <td>28.444722</td>\n",
       "      <td>-13.863056</td>\n",
       "      <td>2015</td>\n",
       "      <td>1</td>\n",
       "      <td>1</td>\n",
       "      <td>4.7</td>\n",
       "    </tr>\n",
       "  </tbody>\n",
       "</table>\n",
       "</div>"
      ],
      "text/plain": [
       "  indicador estacion                    nombre   provincia    latitud  \\\n",
       "0      tmed    C249I  FUERTEVENTURA AEROPUERTO  LAS PALMAS  28.444722   \n",
       "1      tmin    C249I  FUERTEVENTURA AEROPUERTO  LAS PALMAS  28.444722   \n",
       "2      tmax    C249I  FUERTEVENTURA AEROPUERTO  LAS PALMAS  28.444722   \n",
       "3      prec    C249I  FUERTEVENTURA AEROPUERTO  LAS PALMAS  28.444722   \n",
       "4  velmedia    C249I  FUERTEVENTURA AEROPUERTO  LAS PALMAS  28.444722   \n",
       "\n",
       "    longitud  anyo  mes  dia  valor  \n",
       "0 -13.863056  2015    1    1   17.9  \n",
       "1 -13.863056  2015    1    1   16.8  \n",
       "2 -13.863056  2015    1    1   19.0  \n",
       "3 -13.863056  2015    1    1    0.0  \n",
       "4 -13.863056  2015    1    1    4.7  "
      ]
     },
     "metadata": {},
     "execution_count": 4
    }
   ],
   "metadata": {}
  },
  {
   "cell_type": "code",
   "execution_count": 5,
   "source": [
    "listAllAmountFiles = glob.glob('../../../datos/CM05/maestro_cm05_*.csv')\n",
    "combined_amount_dt = pd.concat([pd.read_csv(f) for f in listAllAmountFiles ])\n",
    "combined_amount_dt = combined_amount_dt[combined_amount_dt.indicador != 'tmin']\n",
    "combined_amount_dt = combined_amount_dt[combined_amount_dt.indicador != 'tmax']\n",
    "combined_amount_dt = combined_amount_dt[combined_amount_dt.indicador != 'prec']\n",
    "combined_amount_dt = combined_amount_dt[combined_amount_dt.indicador != 'sol']\n",
    "combined_amount_dt = combined_amount_dt[combined_amount_dt.indicador != 'velmedia']\n",
    "combined_amount_dt = combined_amount_dt[combined_amount_dt.indicador != 'presMax']\n",
    "combined_amount_dt = combined_amount_dt[combined_amount_dt.indicador != 'presMin']\n",
    "\n",
    "print(combined_amount_dt.describe())"
   ],
   "outputs": [
    {
     "output_type": "stream",
     "name": "stdout",
     "text": [
      "            latitud      longitud          anyo           mes           dia  \\\n",
      "count  43874.000000  43874.000000  43874.000000  43874.000000  43874.000000   \n",
      "mean      28.251516    -15.995855   2017.752245      6.303779     15.720746   \n",
      "std        0.337691      1.246200      1.927627      3.415322      8.799826   \n",
      "min       27.735833    -17.915278   2015.000000      1.000000      1.000000   \n",
      "25%       28.046944    -16.561111   2016.000000      3.000000      8.000000   \n",
      "50%       28.308889    -16.255278   2018.000000      6.000000     16.000000   \n",
      "75%       28.463333    -15.416111   2019.000000      9.000000     23.000000   \n",
      "max       29.231944    -13.501944   2021.000000     12.000000     31.000000   \n",
      "\n",
      "              valor  \n",
      "count  42135.000000  \n",
      "mean      20.559110  \n",
      "std        4.082303  \n",
      "min       -4.000000  \n",
      "25%       18.600000  \n",
      "50%       20.800000  \n",
      "75%       23.400000  \n",
      "max       35.300000  \n"
     ]
    }
   ],
   "metadata": {}
  },
  {
   "cell_type": "code",
   "execution_count": 6,
   "source": [
    "combined_amount_dt.head()"
   ],
   "outputs": [
    {
     "output_type": "execute_result",
     "data": {
      "text/html": [
       "<div>\n",
       "<style scoped>\n",
       "    .dataframe tbody tr th:only-of-type {\n",
       "        vertical-align: middle;\n",
       "    }\n",
       "\n",
       "    .dataframe tbody tr th {\n",
       "        vertical-align: top;\n",
       "    }\n",
       "\n",
       "    .dataframe thead th {\n",
       "        text-align: right;\n",
       "    }\n",
       "</style>\n",
       "<table border=\"1\" class=\"dataframe\">\n",
       "  <thead>\n",
       "    <tr style=\"text-align: right;\">\n",
       "      <th></th>\n",
       "      <th>indicador</th>\n",
       "      <th>estacion</th>\n",
       "      <th>nombre</th>\n",
       "      <th>provincia</th>\n",
       "      <th>latitud</th>\n",
       "      <th>longitud</th>\n",
       "      <th>anyo</th>\n",
       "      <th>mes</th>\n",
       "      <th>dia</th>\n",
       "      <th>valor</th>\n",
       "    </tr>\n",
       "  </thead>\n",
       "  <tbody>\n",
       "    <tr>\n",
       "      <th>0</th>\n",
       "      <td>tmed</td>\n",
       "      <td>C249I</td>\n",
       "      <td>FUERTEVENTURA AEROPUERTO</td>\n",
       "      <td>LAS PALMAS</td>\n",
       "      <td>28.444722</td>\n",
       "      <td>-13.863056</td>\n",
       "      <td>2021</td>\n",
       "      <td>2</td>\n",
       "      <td>1</td>\n",
       "      <td>18.9</td>\n",
       "    </tr>\n",
       "    <tr>\n",
       "      <th>8</th>\n",
       "      <td>tmed</td>\n",
       "      <td>C249I</td>\n",
       "      <td>FUERTEVENTURA AEROPUERTO</td>\n",
       "      <td>LAS PALMAS</td>\n",
       "      <td>28.444722</td>\n",
       "      <td>-13.863056</td>\n",
       "      <td>2021</td>\n",
       "      <td>2</td>\n",
       "      <td>2</td>\n",
       "      <td>18.8</td>\n",
       "    </tr>\n",
       "    <tr>\n",
       "      <th>16</th>\n",
       "      <td>tmed</td>\n",
       "      <td>C249I</td>\n",
       "      <td>FUERTEVENTURA AEROPUERTO</td>\n",
       "      <td>LAS PALMAS</td>\n",
       "      <td>28.444722</td>\n",
       "      <td>-13.863056</td>\n",
       "      <td>2021</td>\n",
       "      <td>2</td>\n",
       "      <td>3</td>\n",
       "      <td>18.6</td>\n",
       "    </tr>\n",
       "    <tr>\n",
       "      <th>24</th>\n",
       "      <td>tmed</td>\n",
       "      <td>C249I</td>\n",
       "      <td>FUERTEVENTURA AEROPUERTO</td>\n",
       "      <td>LAS PALMAS</td>\n",
       "      <td>28.444722</td>\n",
       "      <td>-13.863056</td>\n",
       "      <td>2021</td>\n",
       "      <td>2</td>\n",
       "      <td>4</td>\n",
       "      <td>15.8</td>\n",
       "    </tr>\n",
       "    <tr>\n",
       "      <th>32</th>\n",
       "      <td>tmed</td>\n",
       "      <td>C249I</td>\n",
       "      <td>FUERTEVENTURA AEROPUERTO</td>\n",
       "      <td>LAS PALMAS</td>\n",
       "      <td>28.444722</td>\n",
       "      <td>-13.863056</td>\n",
       "      <td>2021</td>\n",
       "      <td>2</td>\n",
       "      <td>5</td>\n",
       "      <td>15.4</td>\n",
       "    </tr>\n",
       "  </tbody>\n",
       "</table>\n",
       "</div>"
      ],
      "text/plain": [
       "   indicador estacion                    nombre   provincia    latitud  \\\n",
       "0       tmed    C249I  FUERTEVENTURA AEROPUERTO  LAS PALMAS  28.444722   \n",
       "8       tmed    C249I  FUERTEVENTURA AEROPUERTO  LAS PALMAS  28.444722   \n",
       "16      tmed    C249I  FUERTEVENTURA AEROPUERTO  LAS PALMAS  28.444722   \n",
       "24      tmed    C249I  FUERTEVENTURA AEROPUERTO  LAS PALMAS  28.444722   \n",
       "32      tmed    C249I  FUERTEVENTURA AEROPUERTO  LAS PALMAS  28.444722   \n",
       "\n",
       "     longitud  anyo  mes  dia  valor  \n",
       "0  -13.863056  2021    2    1   18.9  \n",
       "8  -13.863056  2021    2    2   18.8  \n",
       "16 -13.863056  2021    2    3   18.6  \n",
       "24 -13.863056  2021    2    4   15.8  \n",
       "32 -13.863056  2021    2    5   15.4  "
      ]
     },
     "metadata": {},
     "execution_count": 6
    }
   ],
   "metadata": {}
  },
  {
   "cell_type": "code",
   "execution_count": 30,
   "source": [
    "combined_amount_dt.plot.scatter(x='valor',y='latitud')"
   ],
   "outputs": [
    {
     "output_type": "execute_result",
     "data": {
      "text/plain": [
       "<AxesSubplot:xlabel='valor', ylabel='latitud'>"
      ]
     },
     "metadata": {},
     "execution_count": 30
    },
    {
     "output_type": "display_data",
     "data": {
      "image/png": "[encoded data removed]",
      "text/plain": [
       "<Figure size 432x288 with 1 Axes>"
      ]
     },
     "metadata": {
      "needs_background": "light"
     }
    }
   ],
   "metadata": {}
  },
  {
   "cell_type": "code",
   "execution_count": 36,
   "source": [
    "\n"
   ],
   "outputs": [
    {
     "output_type": "execute_result",
     "data": {
      "text/html": [
       "<div>\n",
       "<style scoped>\n",
       "    .dataframe tbody tr th:only-of-type {\n",
       "        vertical-align: middle;\n",
       "    }\n",
       "\n",
       "    .dataframe tbody tr th {\n",
       "        vertical-align: top;\n",
       "    }\n",
       "\n",
       "    .dataframe thead th {\n",
       "        text-align: right;\n",
       "    }\n",
       "</style>\n",
       "<table border=\"1\" class=\"dataframe\">\n",
       "  <thead>\n",
       "    <tr style=\"text-align: right;\">\n",
       "      <th></th>\n",
       "      <th>indicador</th>\n",
       "      <th>estacion</th>\n",
       "      <th>nombre</th>\n",
       "      <th>provincia</th>\n",
       "      <th>latitud</th>\n",
       "      <th>longitud</th>\n",
       "      <th>anyo</th>\n",
       "      <th>mes</th>\n",
       "      <th>dia</th>\n",
       "      <th>valor</th>\n",
       "      <th>valorPrev</th>\n",
       "      <th>ultima_fecha</th>\n",
       "    </tr>\n",
       "  </thead>\n",
       "  <tbody>\n",
       "    <tr>\n",
       "      <th>0</th>\n",
       "      <td>tmed</td>\n",
       "      <td>C249I</td>\n",
       "      <td>FUERTEVENTURA AEROPUERTO</td>\n",
       "      <td>LAS PALMAS</td>\n",
       "      <td>28.444722</td>\n",
       "      <td>-13.863056</td>\n",
       "      <td>2017</td>\n",
       "      <td>1</td>\n",
       "      <td>1</td>\n",
       "      <td>17,9</td>\n",
       "      <td>NaN</td>\n",
       "      <td>20200910</td>\n",
       "    </tr>\n",
       "    <tr>\n",
       "      <th>8</th>\n",
       "      <td>tmed</td>\n",
       "      <td>C249I</td>\n",
       "      <td>FUERTEVENTURA AEROPUERTO</td>\n",
       "      <td>LAS PALMAS</td>\n",
       "      <td>28.444722</td>\n",
       "      <td>-13.863056</td>\n",
       "      <td>2017</td>\n",
       "      <td>1</td>\n",
       "      <td>2</td>\n",
       "      <td>18,2</td>\n",
       "      <td>NaN</td>\n",
       "      <td>20200910</td>\n",
       "    </tr>\n",
       "    <tr>\n",
       "      <th>16</th>\n",
       "      <td>tmed</td>\n",
       "      <td>C249I</td>\n",
       "      <td>FUERTEVENTURA AEROPUERTO</td>\n",
       "      <td>LAS PALMAS</td>\n",
       "      <td>28.444722</td>\n",
       "      <td>-13.863056</td>\n",
       "      <td>2017</td>\n",
       "      <td>1</td>\n",
       "      <td>3</td>\n",
       "      <td>19,2</td>\n",
       "      <td>NaN</td>\n",
       "      <td>20200910</td>\n",
       "    </tr>\n",
       "    <tr>\n",
       "      <th>24</th>\n",
       "      <td>tmed</td>\n",
       "      <td>C249I</td>\n",
       "      <td>FUERTEVENTURA AEROPUERTO</td>\n",
       "      <td>LAS PALMAS</td>\n",
       "      <td>28.444722</td>\n",
       "      <td>-13.863056</td>\n",
       "      <td>2017</td>\n",
       "      <td>1</td>\n",
       "      <td>4</td>\n",
       "      <td>17,4</td>\n",
       "      <td>NaN</td>\n",
       "      <td>20200910</td>\n",
       "    </tr>\n",
       "    <tr>\n",
       "      <th>32</th>\n",
       "      <td>tmed</td>\n",
       "      <td>C249I</td>\n",
       "      <td>FUERTEVENTURA AEROPUERTO</td>\n",
       "      <td>LAS PALMAS</td>\n",
       "      <td>28.444722</td>\n",
       "      <td>-13.863056</td>\n",
       "      <td>2017</td>\n",
       "      <td>1</td>\n",
       "      <td>5</td>\n",
       "      <td>16,7</td>\n",
       "      <td>NaN</td>\n",
       "      <td>20200910</td>\n",
       "    </tr>\n",
       "  </tbody>\n",
       "</table>\n",
       "</div>"
      ],
      "text/plain": [
       "   indicador estacion                    nombre   provincia    latitud  \\\n",
       "0       tmed    C249I  FUERTEVENTURA AEROPUERTO  LAS PALMAS  28.444722   \n",
       "8       tmed    C249I  FUERTEVENTURA AEROPUERTO  LAS PALMAS  28.444722   \n",
       "16      tmed    C249I  FUERTEVENTURA AEROPUERTO  LAS PALMAS  28.444722   \n",
       "24      tmed    C249I  FUERTEVENTURA AEROPUERTO  LAS PALMAS  28.444722   \n",
       "32      tmed    C249I  FUERTEVENTURA AEROPUERTO  LAS PALMAS  28.444722   \n",
       "\n",
       "     longitud  anyo  mes  dia valor valorPrev  ultima_fecha  \n",
       "0  -13.863056  2017    1    1  17,9       NaN      20200910  \n",
       "8  -13.863056  2017    1    2  18,2       NaN      20200910  \n",
       "16 -13.863056  2017    1    3  19,2       NaN      20200910  \n",
       "24 -13.863056  2017    1    4  17,4       NaN      20200910  \n",
       "32 -13.863056  2017    1    5  16,7       NaN      20200910  "
      ]
     },
     "metadata": {},
     "execution_count": 36
    }
   ],
   "metadata": {}
  },
  {
   "cell_type": "code",
   "execution_count": 37,
   "source": [],
   "outputs": [
    {
     "output_type": "error",
     "ename": "ValueError",
     "evalue": "could not convert string to float: '17,9'",
     "traceback": [
      "\u001b[0;31m---------------------------------------------------------------------------\u001b[0m",
      "\u001b[0;31mValueError\u001b[0m                                Traceback (most recent call last)",
      "\u001b[0;32m/tmp/ipykernel_78462/2294989595.py\u001b[0m in \u001b[0;36m<module>\u001b[0;34m\u001b[0m\n\u001b[0;32m----> 1\u001b[0;31m \u001b[0msns\u001b[0m\u001b[0;34m.\u001b[0m\u001b[0mlmplot\u001b[0m\u001b[0;34m(\u001b[0m\u001b[0mx\u001b[0m\u001b[0;34m=\u001b[0m\u001b[0;34m\"valorPrev\"\u001b[0m\u001b[0;34m,\u001b[0m \u001b[0my\u001b[0m\u001b[0;34m=\u001b[0m\u001b[0;34m\"mes\"\u001b[0m\u001b[0;34m,\u001b[0m \u001b[0mdata\u001b[0m\u001b[0;34m=\u001b[0m\u001b[0mdf\u001b[0m\u001b[0;34m)\u001b[0m\u001b[0;34m\u001b[0m\u001b[0;34m\u001b[0m\u001b[0m\n\u001b[0m",
      "\u001b[0;32m~/miniconda3/envs/datathon/lib/python3.9/site-packages/seaborn/_decorators.py\u001b[0m in \u001b[0;36minner_f\u001b[0;34m(*args, **kwargs)\u001b[0m\n\u001b[1;32m     44\u001b[0m             )\n\u001b[1;32m     45\u001b[0m         \u001b[0mkwargs\u001b[0m\u001b[0;34m.\u001b[0m\u001b[0mupdate\u001b[0m\u001b[0;34m(\u001b[0m\u001b[0;34m{\u001b[0m\u001b[0mk\u001b[0m\u001b[0;34m:\u001b[0m \u001b[0marg\u001b[0m \u001b[0;32mfor\u001b[0m \u001b[0mk\u001b[0m\u001b[0;34m,\u001b[0m \u001b[0marg\u001b[0m \u001b[0;32min\u001b[0m \u001b[0mzip\u001b[0m\u001b[0;34m(\u001b[0m\u001b[0msig\u001b[0m\u001b[0;34m.\u001b[0m\u001b[0mparameters\u001b[0m\u001b[0;34m,\u001b[0m \u001b[0margs\u001b[0m\u001b[0;34m)\u001b[0m\u001b[0;34m}\u001b[0m\u001b[0;34m)\u001b[0m\u001b[0;34m\u001b[0m\u001b[0;34m\u001b[0m\u001b[0m\n\u001b[0;32m---> 46\u001b[0;31m         \u001b[0;32mreturn\u001b[0m \u001b[0mf\u001b[0m\u001b[0;34m(\u001b[0m\u001b[0;34m**\u001b[0m\u001b[0mkwargs\u001b[0m\u001b[0;34m)\u001b[0m\u001b[0;34m\u001b[0m\u001b[0;34m\u001b[0m\u001b[0m\n\u001b[0m\u001b[1;32m     47\u001b[0m     \u001b[0;32mreturn\u001b[0m \u001b[0minner_f\u001b[0m\u001b[0;34m\u001b[0m\u001b[0;34m\u001b[0m\u001b[0m\n\u001b[1;32m     48\u001b[0m \u001b[0;34m\u001b[0m\u001b[0m\n",
      "\u001b[0;32m~/miniconda3/envs/datathon/lib/python3.9/site-packages/seaborn/regression.py\u001b[0m in \u001b[0;36mlmplot\u001b[0;34m(x, y, data, hue, col, row, palette, col_wrap, height, aspect, markers, sharex, sharey, hue_order, col_order, row_order, legend, legend_out, x_estimator, x_bins, x_ci, scatter, fit_reg, ci, n_boot, units, seed, order, logistic, lowess, robust, logx, x_partial, y_partial, truncate, x_jitter, y_jitter, scatter_kws, line_kws, facet_kws, size)\u001b[0m\n\u001b[1;32m    632\u001b[0m         \u001b[0max\u001b[0m\u001b[0;34m.\u001b[0m\u001b[0mautoscale_view\u001b[0m\u001b[0;34m(\u001b[0m\u001b[0mscaley\u001b[0m\u001b[0;34m=\u001b[0m\u001b[0;32mFalse\u001b[0m\u001b[0;34m)\u001b[0m\u001b[0;34m\u001b[0m\u001b[0;34m\u001b[0m\u001b[0m\n\u001b[1;32m    633\u001b[0m \u001b[0;34m\u001b[0m\u001b[0m\n\u001b[0;32m--> 634\u001b[0;31m     \u001b[0mfacets\u001b[0m\u001b[0;34m.\u001b[0m\u001b[0mmap_dataframe\u001b[0m\u001b[0;34m(\u001b[0m\u001b[0mupdate_datalim\u001b[0m\u001b[0;34m,\u001b[0m \u001b[0mx\u001b[0m\u001b[0;34m=\u001b[0m\u001b[0mx\u001b[0m\u001b[0;34m,\u001b[0m \u001b[0my\u001b[0m\u001b[0;34m=\u001b[0m\u001b[0my\u001b[0m\u001b[0;34m)\u001b[0m\u001b[0;34m\u001b[0m\u001b[0;34m\u001b[0m\u001b[0m\n\u001b[0m\u001b[1;32m    635\u001b[0m \u001b[0;34m\u001b[0m\u001b[0m\n\u001b[1;32m    636\u001b[0m     \u001b[0;31m# Draw the regression plot on each facet\u001b[0m\u001b[0;34m\u001b[0m\u001b[0;34m\u001b[0m\u001b[0m\n",
      "\u001b[0;32m~/miniconda3/envs/datathon/lib/python3.9/site-packages/seaborn/axisgrid.py\u001b[0m in \u001b[0;36mmap_dataframe\u001b[0;34m(self, func, *args, **kwargs)\u001b[0m\n\u001b[1;32m    775\u001b[0m \u001b[0;34m\u001b[0m\u001b[0m\n\u001b[1;32m    776\u001b[0m             \u001b[0;31m# Draw the plot\u001b[0m\u001b[0;34m\u001b[0m\u001b[0;34m\u001b[0m\u001b[0m\n\u001b[0;32m--> 777\u001b[0;31m             \u001b[0mself\u001b[0m\u001b[0;34m.\u001b[0m\u001b[0m_facet_plot\u001b[0m\u001b[0;34m(\u001b[0m\u001b[0mfunc\u001b[0m\u001b[0;34m,\u001b[0m \u001b[0max\u001b[0m\u001b[0;34m,\u001b[0m \u001b[0margs\u001b[0m\u001b[0;34m,\u001b[0m \u001b[0mkwargs\u001b[0m\u001b[0;34m)\u001b[0m\u001b[0;34m\u001b[0m\u001b[0;34m\u001b[0m\u001b[0m\n\u001b[0m\u001b[1;32m    778\u001b[0m \u001b[0;34m\u001b[0m\u001b[0m\n\u001b[1;32m    779\u001b[0m         \u001b[0;31m# For axis labels, prefer to use positional args for backcompat\u001b[0m\u001b[0;34m\u001b[0m\u001b[0;34m\u001b[0m\u001b[0m\n",
      "\u001b[0;32m~/miniconda3/envs/datathon/lib/python3.9/site-packages/seaborn/axisgrid.py\u001b[0m in \u001b[0;36m_facet_plot\u001b[0;34m(self, func, ax, plot_args, plot_kwargs)\u001b[0m\n\u001b[1;32m    804\u001b[0m             \u001b[0mplot_args\u001b[0m \u001b[0;34m=\u001b[0m \u001b[0;34m[\u001b[0m\u001b[0;34m]\u001b[0m\u001b[0;34m\u001b[0m\u001b[0;34m\u001b[0m\u001b[0m\n\u001b[1;32m    805\u001b[0m             \u001b[0mplot_kwargs\u001b[0m\u001b[0;34m[\u001b[0m\u001b[0;34m\"ax\"\u001b[0m\u001b[0;34m]\u001b[0m \u001b[0;34m=\u001b[0m \u001b[0max\u001b[0m\u001b[0;34m\u001b[0m\u001b[0;34m\u001b[0m\u001b[0m\n\u001b[0;32m--> 806\u001b[0;31m         \u001b[0mfunc\u001b[0m\u001b[0;34m(\u001b[0m\u001b[0;34m*\u001b[0m\u001b[0mplot_args\u001b[0m\u001b[0;34m,\u001b[0m \u001b[0;34m**\u001b[0m\u001b[0mplot_kwargs\u001b[0m\u001b[0;34m)\u001b[0m\u001b[0;34m\u001b[0m\u001b[0;34m\u001b[0m\u001b[0m\n\u001b[0m\u001b[1;32m    807\u001b[0m \u001b[0;34m\u001b[0m\u001b[0m\n\u001b[1;32m    808\u001b[0m         \u001b[0;31m# Sort out the supporting information\u001b[0m\u001b[0;34m\u001b[0m\u001b[0;34m\u001b[0m\u001b[0m\n",
      "\u001b[0;32m~/miniconda3/envs/datathon/lib/python3.9/site-packages/seaborn/regression.py\u001b[0m in \u001b[0;36mupdate_datalim\u001b[0;34m(data, x, y, ax, **kws)\u001b[0m\n\u001b[1;32m    628\u001b[0m \u001b[0;34m\u001b[0m\u001b[0m\n\u001b[1;32m    629\u001b[0m     \u001b[0;32mdef\u001b[0m \u001b[0mupdate_datalim\u001b[0m\u001b[0;34m(\u001b[0m\u001b[0mdata\u001b[0m\u001b[0;34m,\u001b[0m \u001b[0mx\u001b[0m\u001b[0;34m,\u001b[0m \u001b[0my\u001b[0m\u001b[0;34m,\u001b[0m \u001b[0max\u001b[0m\u001b[0;34m,\u001b[0m \u001b[0;34m**\u001b[0m\u001b[0mkws\u001b[0m\u001b[0;34m)\u001b[0m\u001b[0;34m:\u001b[0m\u001b[0;34m\u001b[0m\u001b[0;34m\u001b[0m\u001b[0m\n\u001b[0;32m--> 630\u001b[0;31m         \u001b[0mxys\u001b[0m \u001b[0;34m=\u001b[0m \u001b[0mnp\u001b[0m\u001b[0;34m.\u001b[0m\u001b[0masarray\u001b[0m\u001b[0;34m(\u001b[0m\u001b[0mdata\u001b[0m\u001b[0;34m[\u001b[0m\u001b[0;34m[\u001b[0m\u001b[0mx\u001b[0m\u001b[0;34m,\u001b[0m \u001b[0my\u001b[0m\u001b[0;34m]\u001b[0m\u001b[0;34m]\u001b[0m\u001b[0;34m)\u001b[0m\u001b[0;34m.\u001b[0m\u001b[0mastype\u001b[0m\u001b[0;34m(\u001b[0m\u001b[0mfloat\u001b[0m\u001b[0;34m)\u001b[0m\u001b[0;34m\u001b[0m\u001b[0;34m\u001b[0m\u001b[0m\n\u001b[0m\u001b[1;32m    631\u001b[0m         \u001b[0max\u001b[0m\u001b[0;34m.\u001b[0m\u001b[0mupdate_datalim\u001b[0m\u001b[0;34m(\u001b[0m\u001b[0mxys\u001b[0m\u001b[0;34m,\u001b[0m \u001b[0mupdatey\u001b[0m\u001b[0;34m=\u001b[0m\u001b[0;32mFalse\u001b[0m\u001b[0;34m)\u001b[0m\u001b[0;34m\u001b[0m\u001b[0;34m\u001b[0m\u001b[0m\n\u001b[1;32m    632\u001b[0m         \u001b[0max\u001b[0m\u001b[0;34m.\u001b[0m\u001b[0mautoscale_view\u001b[0m\u001b[0;34m(\u001b[0m\u001b[0mscaley\u001b[0m\u001b[0;34m=\u001b[0m\u001b[0;32mFalse\u001b[0m\u001b[0;34m)\u001b[0m\u001b[0;34m\u001b[0m\u001b[0;34m\u001b[0m\u001b[0m\n",
      "\u001b[0;31mValueError\u001b[0m: could not convert string to float: '17,9'"
     ]
    },
    {
     "output_type": "display_data",
     "data": {
      "image/png": "[encoded data removed]",
      "text/plain": [
       "<Figure size 360x360 with 1 Axes>"
      ]
     },
     "metadata": {
      "needs_background": "light"
     }
    }
   ],
   "metadata": {}
  }
 ],
 "metadata": {
  "kernelspec": {
   "name": "python3",
   "display_name": "Python 3.9.7 64-bit ('datathon': conda)"
  },
  "language_info": {
   "codemirror_mode": {
    "name": "ipython",
    "version": 3
   },
   "file_extension": ".py",
   "mimetype": "text/x-python",
   "name": "python",
   "nbconvert_exporter": "python",
   "pygments_lexer": "ipython3",
   "version": "3.9.7"
  },
  "interpreter": {
   "hash": "3df4161d2415b2554b6d72f588381e943bc074872f766653d5cd8dc05056e883"
  }
 },
 "nbformat": 4,
 "nbformat_minor": 5
}