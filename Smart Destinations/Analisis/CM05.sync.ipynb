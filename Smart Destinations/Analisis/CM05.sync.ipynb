{
 "cells": [
  {
   "cell_type": "code",
   "execution_count": 166,
   "id": "5727541c",
   "metadata": {},
   "outputs": [
    {
     "data": {
      "text/plain": [
       "<AxesSubplot:xlabel='valor'>"
      ]
     },
     "execution_count": 166,
     "metadata": {},
     "output_type": "execute_result"
    },
    {
     "data": {
      "image/png": "[encoded data removed]",
      "text/plain": [
       "<Figure size 432x288 with 1 Axes>"
      ]
     },
     "metadata": {
      "needs_background": "light"
     },
     "output_type": "display_data"
    }
   ],
   "source": [
    "import pandas as pd\n",
    "import matplotlib.pyplot as plt\n",
    "import glob\n",
    "import numpy as np\n",
    "from mpl_toolkits.mplot3d import Axes3D\n",
    "import seaborn as sns\n",
    "\n",
    "datosClimaDiarios = \"../../datos/CM05/datosClimaDiarios_.csv\"\n",
    "datosClimaDiarios_dt = pd.read_csv(datosClimaDiarios)\n",
    "datosClimaDiarios_dt.plot(x='valor',y='latitud')"
   ]
  },
  {
   "cell_type": "code",
   "execution_count": 167,
   "id": "070f2a37",
   "metadata": {},
   "outputs": [
    {
     "name": "stdout",
     "output_type": "stream",
     "text": [
      "            latitud      longitud          anyo           mes           dia  \\\n",
      "count  23899.000000  23899.000000  23899.000000  23899.000000  23899.000000   \n",
      "mean      28.239203    -16.031765   2018.382903      6.194276     15.643332   \n",
      "std        0.317791      1.222160      1.074181      3.358493      8.817867   \n",
      "min       27.735833    -17.915278   2017.000000      1.000000      1.000000   \n",
      "25%       28.046944    -16.561111   2017.000000      3.000000      8.000000   \n",
      "50%       28.308889    -16.329444   2018.000000      6.000000     16.000000   \n",
      "75%       28.463333    -15.416111   2019.000000      9.000000     23.000000   \n",
      "max       28.951944    -13.600278   2020.000000     12.000000     31.000000   \n",
      "\n",
      "       ultima_fecha  \n",
      "count       23899.0  \n",
      "mean     20200910.0  \n",
      "std             0.0  \n",
      "min      20200910.0  \n",
      "25%      20200910.0  \n",
      "50%      20200910.0  \n",
      "75%      20200910.0  \n",
      "max      20200910.0  \n"
     ]
    }
   ],
   "source": [
    "datosClimaDiarios_dt = datosClimaDiarios_dt[datosClimaDiarios_dt.indicador != 'tmin']\n",
    "datosClimaDiarios_dt = datosClimaDiarios_dt[datosClimaDiarios_dt.indicador != 'tmax']\n",
    "datosClimaDiarios_dt = datosClimaDiarios_dt[datosClimaDiarios_dt.indicador != 'prec']\n",
    "datosClimaDiarios_dt = datosClimaDiarios_dt[datosClimaDiarios_dt.indicador != 'sol']\n",
    "datosClimaDiarios_dt = datosClimaDiarios_dt[datosClimaDiarios_dt.indicador != 'velmedia']\n",
    "datosClimaDiarios_dt = datosClimaDiarios_dt[datosClimaDiarios_dt.indicador != 'presMax']\n",
    "datosClimaDiarios_dt = datosClimaDiarios_dt[datosClimaDiarios_dt.indicador != 'presMin']\n",
    "print(datosClimaDiarios_dt.describe())"
   ]
  },
  {
   "cell_type": "code",
   "execution_count": 168,
   "id": "2a6ba6e6",
   "metadata": {},
   "outputs": [
    {
     "data": {
      "text/html": [
       "<div>\n",
       "<style scoped>\n",
       "    .dataframe tbody tr th:only-of-type {\n",
       "        vertical-align: middle;\n",
       "    }\n",
       "\n",
       "    .dataframe tbody tr th {\n",
       "        vertical-align: top;\n",
       "    }\n",
       "\n",
       "    .dataframe thead th {\n",
       "        text-align: right;\n",
       "    }\n",
       "</style>\n",
       "<table border=\"1\" class=\"dataframe\">\n",
       "  <thead>\n",
       "    <tr style=\"text-align: right;\">\n",
       "      <th></th>\n",
       "      <th>indicador</th>\n",
       "      <th>estacion</th>\n",
       "      <th>nombre</th>\n",
       "      <th>provincia</th>\n",
       "      <th>latitud</th>\n",
       "      <th>longitud</th>\n",
       "      <th>anyo</th>\n",
       "      <th>mes</th>\n",
       "      <th>dia</th>\n",
       "      <th>valor</th>\n",
       "    </tr>\n",
       "  </thead>\n",
       "  <tbody>\n",
       "    <tr>\n",
       "      <th>0</th>\n",
       "      <td>tmed</td>\n",
       "      <td>C249I</td>\n",
       "      <td>FUERTEVENTURA AEROPUERTO</td>\n",
       "      <td>LAS PALMAS</td>\n",
       "      <td>28.444722</td>\n",
       "      <td>-13.863056</td>\n",
       "      <td>2015</td>\n",
       "      <td>1</td>\n",
       "      <td>1</td>\n",
       "      <td>17.9</td>\n",
       "    </tr>\n",
       "    <tr>\n",
       "      <th>1</th>\n",
       "      <td>tmin</td>\n",
       "      <td>C249I</td>\n",
       "      <td>FUERTEVENTURA AEROPUERTO</td>\n",
       "      <td>LAS PALMAS</td>\n",
       "      <td>28.444722</td>\n",
       "      <td>-13.863056</td>\n",
       "      <td>2015</td>\n",
       "      <td>1</td>\n",
       "      <td>1</td>\n",
       "      <td>16.8</td>\n",
       "    </tr>\n",
       "    <tr>\n",
       "      <th>2</th>\n",
       "      <td>tmax</td>\n",
       "      <td>C249I</td>\n",
       "      <td>FUERTEVENTURA AEROPUERTO</td>\n",
       "      <td>LAS PALMAS</td>\n",
       "      <td>28.444722</td>\n",
       "      <td>-13.863056</td>\n",
       "      <td>2015</td>\n",
       "      <td>1</td>\n",
       "      <td>1</td>\n",
       "      <td>19.0</td>\n",
       "    </tr>\n",
       "    <tr>\n",
       "      <th>3</th>\n",
       "      <td>prec</td>\n",
       "      <td>C249I</td>\n",
       "      <td>FUERTEVENTURA AEROPUERTO</td>\n",
       "      <td>LAS PALMAS</td>\n",
       "      <td>28.444722</td>\n",
       "      <td>-13.863056</td>\n",
       "      <td>2015</td>\n",
       "      <td>1</td>\n",
       "      <td>1</td>\n",
       "      <td>0.0</td>\n",
       "    </tr>\n",
       "    <tr>\n",
       "      <th>4</th>\n",
       "      <td>velmedia</td>\n",
       "      <td>C249I</td>\n",
       "      <td>FUERTEVENTURA AEROPUERTO</td>\n",
       "      <td>LAS PALMAS</td>\n",
       "      <td>28.444722</td>\n",
       "      <td>-13.863056</td>\n",
       "      <td>2015</td>\n",
       "      <td>1</td>\n",
       "      <td>1</td>\n",
       "      <td>4.7</td>\n",
       "    </tr>\n",
       "  </tbody>\n",
       "</table>\n",
       "</div>"
      ],
      "text/plain": [
       "  indicador estacion                    nombre   provincia    latitud  \\\n",
       "0      tmed    C249I  FUERTEVENTURA AEROPUERTO  LAS PALMAS  28.444722   \n",
       "1      tmin    C249I  FUERTEVENTURA AEROPUERTO  LAS PALMAS  28.444722   \n",
       "2      tmax    C249I  FUERTEVENTURA AEROPUERTO  LAS PALMAS  28.444722   \n",
       "3      prec    C249I  FUERTEVENTURA AEROPUERTO  LAS PALMAS  28.444722   \n",
       "4  velmedia    C249I  FUERTEVENTURA AEROPUERTO  LAS PALMAS  28.444722   \n",
       "\n",
       "    longitud  anyo  mes  dia  valor  \n",
       "0 -13.863056  2015    1    1   17.9  \n",
       "1 -13.863056  2015    1    1   16.8  \n",
       "2 -13.863056  2015    1    1   19.0  \n",
       "3 -13.863056  2015    1    1    0.0  \n",
       "4 -13.863056  2015    1    1    4.7  "
      ]
     },
     "execution_count": 168,
     "metadata": {},
     "output_type": "execute_result"
    }
   ],
   "source": [
    "maestro_cm05_20150101_20151231 = \"../../datos/CM05/maestro_cm05_20150101_20151231.csv\"\n",
    "maestro_cm05_20150101_20151231_dt = pd.read_csv(maestro_cm05_20150101_20151231)\n",
    "maestro_cm05_20150101_20151231_dt.head()"
   ]
  },
  {
   "cell_type": "code",
   "execution_count": 170,
   "id": "852c0da2",
   "metadata": {},
   "outputs": [
    {
     "name": "stdout",
     "output_type": "stream",
     "text": [
      "            latitud      longitud          anyo           mes           dia  \\\n",
      "count  43874.000000  43874.000000  43874.000000  43874.000000  43874.000000   \n",
      "mean      28.251516    -15.995855   2017.752245      6.303779     15.720746   \n",
      "std        0.337691      1.246200      1.927627      3.415322      8.799826   \n",
      "min       27.735833    -17.915278   2015.000000      1.000000      1.000000   \n",
      "25%       28.046944    -16.561111   2016.000000      3.000000      8.000000   \n",
      "50%       28.308889    -16.255278   2018.000000      6.000000     16.000000   \n",
      "75%       28.463333    -15.416111   2019.000000      9.000000     23.000000   \n",
      "max       29.231944    -13.501944   2021.000000     12.000000     31.000000   \n",
      "\n",
      "              valor  \n",
      "count  42135.000000  \n",
      "mean      20.559110  \n",
      "std        4.082303  \n",
      "min       -4.000000  \n",
      "25%       18.600000  \n",
      "50%       20.800000  \n",
      "75%       23.400000  \n",
      "max       35.300000  \n"
     ]
    }
   ],
   "source": [
    "listAllAmountFiles = glob.glob('../../datos/CM05/maestro_cm05_*.csv')\n",
    "combined_amount_dt = pd.concat([pd.read_csv(f) for f in listAllAmountFiles ])\n",
    "combined_amount_dt = combined_amount_dt[combined_amount_dt.indicador != 'tmin']\n",
    "combined_amount_dt = combined_amount_dt[combined_amount_dt.indicador != 'tmax']\n",
    "combined_amount_dt = combined_amount_dt[combined_amount_dt.indicador != 'prec']\n",
    "combined_amount_dt = combined_amount_dt[combined_amount_dt.indicador != 'sol']\n",
    "combined_amount_dt = combined_amount_dt[combined_amount_dt.indicador != 'velmedia']\n",
    "combined_amount_dt = combined_amount_dt[combined_amount_dt.indicador != 'presMax']\n",
    "combined_amount_dt = combined_amount_dt[combined_amount_dt.indicador != 'presMin']\n",
    "\n",
    "print(combined_amount_dt.describe())"
   ]
  },
  {
   "cell_type": "code",
   "execution_count": 171,
   "id": "2ff2ea6f",
   "metadata": {},
   "outputs": [
    {
     "data": {
      "text/html": [
       "<div>\n",
       "<style scoped>\n",
       "    .dataframe tbody tr th:only-of-type {\n",
       "        vertical-align: middle;\n",
       "    }\n",
       "\n",
       "    .dataframe tbody tr th {\n",
       "        vertical-align: top;\n",
       "    }\n",
       "\n",
       "    .dataframe thead th {\n",
       "        text-align: right;\n",
       "    }\n",
       "</style>\n",
       "<table border=\"1\" class=\"dataframe\">\n",
       "  <thead>\n",
       "    <tr style=\"text-align: right;\">\n",
       "      <th></th>\n",
       "      <th>indicador</th>\n",
       "      <th>estacion</th>\n",
       "      <th>nombre</th>\n",
       "      <th>provincia</th>\n",
       "      <th>latitud</th>\n",
       "      <th>longitud</th>\n",
       "      <th>anyo</th>\n",
       "      <th>mes</th>\n",
       "      <th>dia</th>\n",
       "      <th>valor</th>\n",
       "    </tr>\n",
       "  </thead>\n",
       "  <tbody>\n",
       "    <tr>\n",
       "      <th>0</th>\n",
       "      <td>tmed</td>\n",
       "      <td>C249I</td>\n",
       "      <td>FUERTEVENTURA AEROPUERTO</td>\n",
       "      <td>LAS PALMAS</td>\n",
       "      <td>28.444722</td>\n",
       "      <td>-13.863056</td>\n",
       "      <td>2019</td>\n",
       "      <td>1</td>\n",
       "      <td>1</td>\n",
       "      <td>17.7</td>\n",
       "    </tr>\n",
       "    <tr>\n",
       "      <th>8</th>\n",
       "      <td>tmed</td>\n",
       "      <td>C249I</td>\n",
       "      <td>FUERTEVENTURA AEROPUERTO</td>\n",
       "      <td>LAS PALMAS</td>\n",
       "      <td>28.444722</td>\n",
       "      <td>-13.863056</td>\n",
       "      <td>2019</td>\n",
       "      <td>1</td>\n",
       "      <td>2</td>\n",
       "      <td>17.0</td>\n",
       "    </tr>\n",
       "    <tr>\n",
       "      <th>16</th>\n",
       "      <td>tmed</td>\n",
       "      <td>C249I</td>\n",
       "      <td>FUERTEVENTURA AEROPUERTO</td>\n",
       "      <td>LAS PALMAS</td>\n",
       "      <td>28.444722</td>\n",
       "      <td>-13.863056</td>\n",
       "      <td>2019</td>\n",
       "      <td>1</td>\n",
       "      <td>3</td>\n",
       "      <td>18.4</td>\n",
       "    </tr>\n",
       "    <tr>\n",
       "      <th>24</th>\n",
       "      <td>tmed</td>\n",
       "      <td>C249I</td>\n",
       "      <td>FUERTEVENTURA AEROPUERTO</td>\n",
       "      <td>LAS PALMAS</td>\n",
       "      <td>28.444722</td>\n",
       "      <td>-13.863056</td>\n",
       "      <td>2019</td>\n",
       "      <td>1</td>\n",
       "      <td>4</td>\n",
       "      <td>16.8</td>\n",
       "    </tr>\n",
       "    <tr>\n",
       "      <th>32</th>\n",
       "      <td>tmed</td>\n",
       "      <td>C249I</td>\n",
       "      <td>FUERTEVENTURA AEROPUERTO</td>\n",
       "      <td>LAS PALMAS</td>\n",
       "      <td>28.444722</td>\n",
       "      <td>-13.863056</td>\n",
       "      <td>2019</td>\n",
       "      <td>1</td>\n",
       "      <td>5</td>\n",
       "      <td>16.8</td>\n",
       "    </tr>\n",
       "  </tbody>\n",
       "</table>\n",
       "</div>"
      ],
      "text/plain": [
       "   indicador estacion                    nombre   provincia    latitud  \\\n",
       "0       tmed    C249I  FUERTEVENTURA AEROPUERTO  LAS PALMAS  28.444722   \n",
       "8       tmed    C249I  FUERTEVENTURA AEROPUERTO  LAS PALMAS  28.444722   \n",
       "16      tmed    C249I  FUERTEVENTURA AEROPUERTO  LAS PALMAS  28.444722   \n",
       "24      tmed    C249I  FUERTEVENTURA AEROPUERTO  LAS PALMAS  28.444722   \n",
       "32      tmed    C249I  FUERTEVENTURA AEROPUERTO  LAS PALMAS  28.444722   \n",
       "\n",
       "     longitud  anyo  mes  dia  valor  \n",
       "0  -13.863056  2019    1    1   17.7  \n",
       "8  -13.863056  2019    1    2   17.0  \n",
       "16 -13.863056  2019    1    3   18.4  \n",
       "24 -13.863056  2019    1    4   16.8  \n",
       "32 -13.863056  2019    1    5   16.8  "
      ]
     },
     "execution_count": 171,
     "metadata": {},
     "output_type": "execute_result"
    }
   ],
   "source": [
    "combined_amount_dt.head()"
   ]
  },
  {
   "cell_type": "code",
   "execution_count": 172,
   "id": "18398e1b",
   "metadata": {},
   "outputs": [
    {
     "data": {
      "text/plain": [
       "<AxesSubplot:xlabel='valor', ylabel='latitud'>"
      ]
     },
     "execution_count": 172,
     "metadata": {},
     "output_type": "execute_result"
    },
    {
     "data": {
      "image/png": "[encoded data removed]",
      "text/plain": [
       "<Figure size 432x288 with 1 Axes>"
      ]
     },
     "metadata": {
      "needs_background": "light"
     },
     "output_type": "display_data"
    }
   ],
   "source": [
    "combined_amount_dt.plot.scatter(x='valor',y='latitud')"
   ]
  }
 ],
 "metadata": {
  "kernelspec": {
   "display_name": "Python 3 (ipykernel)",
   "language": "python",
   "name": "python3"
  },
  "language_info": {
   "codemirror_mode": {
    "name": "ipython",
    "version": 3
   },
   "file_extension": ".py",
   "mimetype": "text/x-python",
   "name": "python",
   "nbconvert_exporter": "python",
   "pygments_lexer": "ipython3",
   "version": "3.9.7"
  }
 },
 "nbformat": 4,
 "nbformat_minor": 5
}
