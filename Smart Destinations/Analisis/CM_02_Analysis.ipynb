{
 "cells": [
  {
   "cell_type": "code",
   "execution_count": 4,
   "source": [
    "import os\n",
    "import pandas as pd\n",
    "import numpy as np\n",
    "import matplotlib.pyplot as plt\n",
    "import seaborn as sns\n",
    "import glob\n",
    "import functools"
   ],
   "outputs": [],
   "metadata": {}
  },
  {
   "cell_type": "markdown",
   "source": [
    "# CM02_1: Información de turistas"
   ],
   "metadata": {}
  },
  {
   "cell_type": "code",
   "execution_count": 5,
   "source": [
    "turistas_ccaa = \"../../../datos/CM02_1/turistas_ccaa.csv\"\n",
    "turistas_ccaa_dt = pd.read_csv(turistas_ccaa)\n",
    "turistas_ccaa_dt.describe()"
   ],
   "outputs": [
    {
     "output_type": "execute_result",
     "data": {
      "text/html": [
       "<div>\n",
       "<style scoped>\n",
       "    .dataframe tbody tr th:only-of-type {\n",
       "        vertical-align: middle;\n",
       "    }\n",
       "\n",
       "    .dataframe tbody tr th {\n",
       "        vertical-align: top;\n",
       "    }\n",
       "\n",
       "    .dataframe thead th {\n",
       "        text-align: right;\n",
       "    }\n",
       "</style>\n",
       "<table border=\"1\" class=\"dataframe\">\n",
       "  <thead>\n",
       "    <tr style=\"text-align: right;\">\n",
       "      <th></th>\n",
       "      <th>anyo</th>\n",
       "      <th>mes</th>\n",
       "      <th>valor</th>\n",
       "    </tr>\n",
       "  </thead>\n",
       "  <tbody>\n",
       "    <tr>\n",
       "      <th>count</th>\n",
       "      <td>1890.000000</td>\n",
       "      <td>1890.000000</td>\n",
       "      <td>1.876000e+03</td>\n",
       "    </tr>\n",
       "    <tr>\n",
       "      <th>mean</th>\n",
       "      <td>2018.200000</td>\n",
       "      <td>5.762963</td>\n",
       "      <td>1.361571e+06</td>\n",
       "    </tr>\n",
       "    <tr>\n",
       "      <th>std</th>\n",
       "      <td>1.655061</td>\n",
       "      <td>3.422422</td>\n",
       "      <td>2.972601e+06</td>\n",
       "    </tr>\n",
       "    <tr>\n",
       "      <th>min</th>\n",
       "      <td>2015.000000</td>\n",
       "      <td>1.000000</td>\n",
       "      <td>-1.000000e+02</td>\n",
       "    </tr>\n",
       "    <tr>\n",
       "      <th>25%</th>\n",
       "      <td>2017.000000</td>\n",
       "      <td>3.000000</td>\n",
       "      <td>3.180000e+00</td>\n",
       "    </tr>\n",
       "    <tr>\n",
       "      <th>50%</th>\n",
       "      <td>2018.000000</td>\n",
       "      <td>5.000000</td>\n",
       "      <td>3.080250e+02</td>\n",
       "    </tr>\n",
       "    <tr>\n",
       "      <th>75%</th>\n",
       "      <td>2020.000000</td>\n",
       "      <td>8.000000</td>\n",
       "      <td>1.115370e+06</td>\n",
       "    </tr>\n",
       "    <tr>\n",
       "      <th>max</th>\n",
       "      <td>2021.000000</td>\n",
       "      <td>12.000000</td>\n",
       "      <td>1.937515e+07</td>\n",
       "    </tr>\n",
       "  </tbody>\n",
       "</table>\n",
       "</div>"
      ],
      "text/plain": [
       "              anyo          mes         valor\n",
       "count  1890.000000  1890.000000  1.876000e+03\n",
       "mean   2018.200000     5.762963  1.361571e+06\n",
       "std       1.655061     3.422422  2.972601e+06\n",
       "min    2015.000000     1.000000 -1.000000e+02\n",
       "25%    2017.000000     3.000000  3.180000e+00\n",
       "50%    2018.000000     5.000000  3.080250e+02\n",
       "75%    2020.000000     8.000000  1.115370e+06\n",
       "max    2021.000000    12.000000  1.937515e+07"
      ]
     },
     "metadata": {},
     "execution_count": 5
    }
   ],
   "metadata": {}
  },
  {
   "cell_type": "code",
   "execution_count": 7,
   "source": [
    "turistas_esorigen = \"../../../datos/CM02_1/turistas_ES_origen.csv\"\n",
    "turistas_esorigen_dt = pd.read_csv(turistas_esorigen)\n",
    "turistas_esorigen_dt.describe()"
   ],
   "outputs": [
    {
     "output_type": "execute_result",
     "data": {
      "text/html": [
       "<div>\n",
       "<style scoped>\n",
       "    .dataframe tbody tr th:only-of-type {\n",
       "        vertical-align: middle;\n",
       "    }\n",
       "\n",
       "    .dataframe tbody tr th {\n",
       "        vertical-align: top;\n",
       "    }\n",
       "\n",
       "    .dataframe thead th {\n",
       "        text-align: right;\n",
       "    }\n",
       "</style>\n",
       "<table border=\"1\" class=\"dataframe\">\n",
       "  <thead>\n",
       "    <tr style=\"text-align: right;\">\n",
       "      <th></th>\n",
       "      <th>anyo</th>\n",
       "      <th>mes</th>\n",
       "      <th>valor</th>\n",
       "    </tr>\n",
       "  </thead>\n",
       "  <tbody>\n",
       "    <tr>\n",
       "      <th>count</th>\n",
       "      <td>1104.000000</td>\n",
       "      <td>1104.000000</td>\n",
       "      <td>1.093000e+03</td>\n",
       "    </tr>\n",
       "    <tr>\n",
       "      <th>mean</th>\n",
       "      <td>2018.130435</td>\n",
       "      <td>5.869565</td>\n",
       "      <td>6.615402e+05</td>\n",
       "    </tr>\n",
       "    <tr>\n",
       "      <th>std</th>\n",
       "      <td>1.702544</td>\n",
       "      <td>3.465308</td>\n",
       "      <td>1.475861e+06</td>\n",
       "    </tr>\n",
       "    <tr>\n",
       "      <th>min</th>\n",
       "      <td>2015.000000</td>\n",
       "      <td>1.000000</td>\n",
       "      <td>0.000000e+00</td>\n",
       "    </tr>\n",
       "    <tr>\n",
       "      <th>25%</th>\n",
       "      <td>2017.000000</td>\n",
       "      <td>3.000000</td>\n",
       "      <td>1.049580e+05</td>\n",
       "    </tr>\n",
       "    <tr>\n",
       "      <th>50%</th>\n",
       "      <td>2018.000000</td>\n",
       "      <td>5.000000</td>\n",
       "      <td>2.485250e+05</td>\n",
       "    </tr>\n",
       "    <tr>\n",
       "      <th>75%</th>\n",
       "      <td>2020.000000</td>\n",
       "      <td>9.000000</td>\n",
       "      <td>4.950620e+05</td>\n",
       "    </tr>\n",
       "    <tr>\n",
       "      <th>max</th>\n",
       "      <td>2021.000000</td>\n",
       "      <td>12.000000</td>\n",
       "      <td>1.049344e+07</td>\n",
       "    </tr>\n",
       "  </tbody>\n",
       "</table>\n",
       "</div>"
      ],
      "text/plain": [
       "              anyo          mes         valor\n",
       "count  1104.000000  1104.000000  1.093000e+03\n",
       "mean   2018.130435     5.869565  6.615402e+05\n",
       "std       1.702544     3.465308  1.475861e+06\n",
       "min    2015.000000     1.000000  0.000000e+00\n",
       "25%    2017.000000     3.000000  1.049580e+05\n",
       "50%    2018.000000     5.000000  2.485250e+05\n",
       "75%    2020.000000     9.000000  4.950620e+05\n",
       "max    2021.000000    12.000000  1.049344e+07"
      ]
     },
     "metadata": {},
     "execution_count": 7
    }
   ],
   "metadata": {}
  },
  {
   "cell_type": "code",
   "execution_count": null,
   "source": [
    "turistas_isla = \"../../datos/CM02_1/turistas_isla.csv\"\n",
    "turistas_motivisla = \"../../datos/CM02_1/turistas_isla.csv\"\n",
    "\n",
    "turistas_isla_dt = pd.read_csv(turistas_ccaa)\n",
    "turistas_motivisla_dt = pd.read_csv(turistas_motivisla)\n",
    "\n",
    "print(turistas_isla_dt.head())\n",
    "print(turistas_motivisla_dt.head())"
   ],
   "outputs": [],
   "metadata": {}
  },
  {
   "cell_type": "code",
   "execution_count": null,
   "source": [
    "turistas_motivos_totales = \"../../datos/CM02_1/turistas_motivos.csv\"\n",
    "turistas_motivos_origen = \"../../datos/CM02_1/turistas_origen.csv\"\n",
    "\n",
    "turistas_motivos_totales_dt = pd.read_csv(turistas_motivos_totales)\n",
    "turistas_motivos_origen_dt = pd.read_csv(turistas_motivos_origen)\n",
    "\n",
    "print(turistas_motivos_totales_dt.head())\n",
    "print(turistas_motivos_origen_dt.head())"
   ],
   "outputs": [],
   "metadata": {}
  },
  {
   "cell_type": "code",
   "execution_count": null,
   "source": [
    "turistas_motivos_totales_dt.groupby(['pais','motivo']).size()"
   ],
   "outputs": [],
   "metadata": {}
  },
  {
   "cell_type": "code",
   "execution_count": null,
   "source": [
    "turistas_paquetes = \"../../datos/CM02_1/turistas_paquete.csv\"\n",
    "turistas_paquetes_isla = \"../../datos/CM02_1/turistas_paquete_isla.csv\"\n",
    "\n",
    "turistas_paquetes_dt = pd.read_csv(turistas_paquetes)\n",
    "turistas_paquetes_isla_dt = pd.read_csv(turistas_paquetes_isla)\n",
    "\n",
    "print(turistas_paquetes_dt.head())\n",
    "print(turistas_paquetes_isla_dt.head())"
   ],
   "outputs": [],
   "metadata": {}
  },
  {
   "cell_type": "code",
   "execution_count": null,
   "source": [
    "turistas_tipo_establecimiento = \"../../../datos/CM02_1/turistas_tipo_establecimiento.csv\"\n",
    "turistas_tipo_establecimiento_isla = \"../../../datos/CM02_1/turistas_tipo_establecimiento_isla.csv\"\n",
    "\n",
    "turistas_paquetes_dt = pd.read_csv(turistas_paquetes)\n",
    "turistas_paquetes_isla_dt = pd.read_csv(turistas_paquetes_isla)\n",
    "\n",
    "print(turistas_paquetes_dt.head())\n",
    "print(turistas_paquetes_isla_dt.head(10))"
   ],
   "outputs": [],
   "metadata": {}
  },
  {
   "cell_type": "code",
   "execution_count": null,
   "source": [
    "turistas_sexo_edad = \"../../datos/CM02_1/turistas_sexo_edad.csv\"\n",
    "\n",
    "turistas_sexo_edad_dt = pd.read_csv(turistas_sexo_edad)\n",
    "\n",
    "print(turistas_sexo_edad_dt.head())"
   ],
   "outputs": [],
   "metadata": {}
  },
  {
   "cell_type": "code",
   "execution_count": null,
   "source": [
    "turistas_pernoct = \"../../datos/CM02_1/turistas_pernoctaciones.csv\"\n",
    "turistas_pernoct_isla = \"../../datos/CM02_1/turistas_pernoctaciones_isla.csv\"\n",
    "\n",
    "turistas_pernoct_dt = pd.read_csv(turistas_pernoct)\n",
    "turistas_pernoct_isla_dt = pd.read_csv(turistas_pernoct_isla)\n",
    "\n",
    "print(turistas_pernoct_dt.head())\n",
    "print(turistas_pernoct_isla_dt.head())\n",
    "turistas_pernoct_isla_dt.groupby(['isla']).describe()"
   ],
   "outputs": [],
   "metadata": {}
  },
  {
   "cell_type": "markdown",
   "source": [
    "# CM02_2: Destinos y estancias"
   ],
   "metadata": {}
  },
  {
   "cell_type": "code",
   "execution_count": null,
   "source": [
    "listAllRevParFiles = glob.glob('../../datos/CM02_2/ADR_RevPAR*.csv')\n",
    "combined_revpar_dt = pd.concat([pd.read_csv(f) for f in listAllRevParFiles])\n",
    "\n",
    "print(combined_revpar_dt.head())\n",
    "\n",
    "combined_revpar_dt.describe()"
   ],
   "outputs": [],
   "metadata": {}
  },
  {
   "cell_type": "code",
   "execution_count": null,
   "source": [
    "combined_revpar_filtered = combined_revpar_dt.drop_duplicates(keep = False)\n",
    "combined_revpar_filtered.describe()"
   ],
   "outputs": [],
   "metadata": {}
  },
  {
   "cell_type": "code",
   "execution_count": null,
   "source": [
    "listAllRestFiles = glob.glob('../../datos/CM02_2/establecimientos*.csv')\n",
    "combined_restabl_dt = pd.concat([pd.read_csv(f) for f in listAllRestFiles])\n",
    "\n",
    "print(combined_restabl_dt.head())\n",
    "\n",
    "combined_restabl_dt.describe()"
   ],
   "outputs": [],
   "metadata": {}
  },
  {
   "cell_type": "code",
   "execution_count": null,
   "source": [
    "combined_restabl_filtered = combined_restabl_dt.drop_duplicates(keep = False)\n",
    "combined_restabl_filtered.describe()"
   ],
   "outputs": [],
   "metadata": {}
  },
  {
   "cell_type": "code",
   "execution_count": null,
   "source": [
    "listAllEstFiles = glob.glob('../../datos/CM02_2/estancia_media*.csv')\n",
    "combined_estancia_dt = pd.concat([pd.read_csv(f) for f in listAllEstFiles])\n",
    "\n",
    "print(combined_estancia_dt.head())\n",
    "\n",
    "combined_estancia_dt.describe()"
   ],
   "outputs": [],
   "metadata": {}
  },
  {
   "cell_type": "markdown",
   "source": [
    "# CM02_3: Relacionado a contabilidad"
   ],
   "metadata": {}
  },
  {
   "cell_type": "code",
   "execution_count": null,
   "source": [
    "listAllMacroFiles = glob.glob('../../datos/CM02_3/macroeconomico*.csv')\n",
    "combined_macro_dt = pd.concat([pd.read_csv(f) for f in listAllMacroFiles])\n",
    "\n",
    "print(combined_macro_dt.head())\n",
    "\n",
    "combined_macro_dt.describe()"
   ],
   "outputs": [],
   "metadata": {}
  }
 ],
 "metadata": {
  "orig_nbformat": 4,
  "language_info": {
   "name": "python",
   "version": "3.9.7",
   "mimetype": "text/x-python",
   "codemirror_mode": {
    "name": "ipython",
    "version": 3
   },
   "pygments_lexer": "ipython3",
   "nbconvert_exporter": "python",
   "file_extension": ".py"
  },
  "kernelspec": {
   "name": "python3",
   "display_name": "Python 3.9.7 64-bit ('datathon': conda)"
  },
  "interpreter": {
   "hash": "3df4161d2415b2554b6d72f588381e943bc074872f766653d5cd8dc05056e883"
  }
 },
 "nbformat": 4,
 "nbformat_minor": 2
}