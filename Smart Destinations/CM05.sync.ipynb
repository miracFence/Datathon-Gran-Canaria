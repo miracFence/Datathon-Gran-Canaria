{
 "cells": [
  {
   "cell_type": "code",
   "execution_count": 5,
   "id": "46df6682",
   "metadata": {},
   "outputs": [
    {
     "ename": "NameError",
     "evalue": "name 'pd' is not defined",
     "output_type": "error",
     "traceback": [
      "\u001b[0;31m---------------------------------------------------------------------------\u001b[0m",
      "\u001b[0;31mNameError\u001b[0m                                 Traceback (most recent call last)",
      "\u001b[0;32m/tmp/ipykernel_372772/2609017081.py\u001b[0m in \u001b[0;36m<module>\u001b[0;34m\u001b[0m\n\u001b[1;32m      1\u001b[0m \u001b[0mdatosClimaDiarios_\u001b[0m \u001b[0;34m=\u001b[0m \u001b[0;34m\"../../datos/CM05/datosClimaDiarios_.csv\"\u001b[0m\u001b[0;34m\u001b[0m\u001b[0;34m\u001b[0m\u001b[0m\n\u001b[0;32m----> 2\u001b[0;31m \u001b[0mdatosClimaDiarios__dt\u001b[0m \u001b[0;34m=\u001b[0m \u001b[0mpd\u001b[0m\u001b[0;34m.\u001b[0m\u001b[0mread_csv\u001b[0m\u001b[0;34m(\u001b[0m\u001b[0mdatosClimaDiarios_\u001b[0m\u001b[0;34m)\u001b[0m\u001b[0;34m\u001b[0m\u001b[0;34m\u001b[0m\u001b[0m\n\u001b[0m\u001b[1;32m      3\u001b[0m \u001b[0mdatosClimaDiarios__dt\u001b[0m\u001b[0;34m.\u001b[0m\u001b[0mhead\u001b[0m\u001b[0;34m(\u001b[0m\u001b[0;34m)\u001b[0m\u001b[0;34m\u001b[0m\u001b[0;34m\u001b[0m\u001b[0m\n",
      "\u001b[0;31mNameError\u001b[0m: name 'pd' is not defined"
     ]
    }
   ],
   "source": [
    "datosClimaDiarios_ = \"../../datos/CM05/datosClimaDiarios_.csv\"\n",
    "datosClimaDiarios__dt = pd.read_csv(datosClimaDiarios_)\n",
    "datosClimaDiarios__dt.head()"
   ]
  },
  {
   "cell_type": "code",
   "execution_count": null,
   "id": "b3d03cff",
   "metadata": {},
   "outputs": [],
   "source": [
    "maestro_cm05_20150101_20151231 = \"../../datos/CM05/maestro_cm05_20150101_20151231.csv\"\n",
    "maestro_cm05_20150101_20151231_dt = pd.read_csv(maestro_cm05_20150101_20151231)\n",
    "maestro_cm05_20150101_20151231_dt.head()"
   ]
  },
  {
   "cell_type": "code",
   "execution_count": null,
   "id": "1b4328dd",
   "metadata": {},
   "outputs": [],
   "source": [
    "maestro_cm05_20160101_20161231 = \"../../datos/CM05/maestro_cm05_20160101_20161231.csv\"\n",
    "maestro_cm05_20160101_20161231_dt = pd.read_csv(maestro_cm05_20160101_20161231)\n",
    "maestro_cm05_20160101_20161231_dt.head()"
   ]
  },
  {
   "cell_type": "code",
   "execution_count": null,
   "id": "3dec2896",
   "metadata": {},
   "outputs": [],
   "source": [
    "maestro_cm05_20170101_20171231 = \"../../datos/CM05/maestro_cm05_20170101_20171231.csv\"\n",
    "maestro_cm05_20170101_20171231_dt = pd.read_csv(maestro_cm05_20170101_20171231)\n",
    "maestro_cm05_20170101_20171231_dt.head()"
   ]
  },
  {
   "cell_type": "code",
   "execution_count": null,
   "id": "2e86cbf2",
   "metadata": {},
   "outputs": [],
   "source": [
    "maestro_cm05_20180101_20181231 = \"../../datos/CM05/maestro_cm05_20180101_20181231.csv\"\n",
    "maestro_cm05_20180101_20181231_dt = pd.read_csv(maestro_cm05_20180101_20181231)\n",
    "maestro_cm05_20180101_20181231_dt.head()"
   ]
  },
  {
   "cell_type": "code",
   "execution_count": null,
   "id": "48416ffe",
   "metadata": {},
   "outputs": [],
   "source": [
    "maestro_cm05_20190101_20191231 = \"../../datos/CM05/maestro_cm05_20190101_20191231.csv\"\n",
    "maestro_cm05_20190101_20191231_dt = pd.read_csv(maestro_cm05_20190101_20191231)\n",
    "maestro_cm05_20190101_20191231_dt.head()"
   ]
  },
  {
   "cell_type": "code",
   "execution_count": null,
   "id": "f945866f",
   "metadata": {},
   "outputs": [],
   "source": [
    "maestro_cm05_20200101_20201231 = \"../../datos/CM05/maestro_cm05_20200101_20201231.csv\"\n",
    "maestro_cm05_20200101_20201231_dt = pd.read_csv(maestro_cm05_20200101_20201231)\n",
    "maestro_cm05_20200101_20201231_dt.head()"
   ]
  },
  {
   "cell_type": "code",
   "execution_count": null,
   "id": "5c24402a",
   "metadata": {},
   "outputs": [],
   "source": [
    "maestro_cm05_20210101_20210131 = \"../../datos/CM05/maestro_cm05_20210101_20210131.csv\"\n",
    "maestro_cm05_20210101_20210131_dt = pd.read_csv(maestro_cm05_20210101_20210131)\n",
    "maestro_cm05_20210101_20210131_dt.head()"
   ]
  },
  {
   "cell_type": "code",
   "execution_count": null,
   "id": "2ba9d62c",
   "metadata": {},
   "outputs": [],
   "source": [
    "maestro_cm05_20210201_20210228 = \"../../datos/CM05/maestro_cm05_20210201_20210228.csv\"\n",
    "maestro_cm05_20210201_20210228_dt = pd.read_csv(maestro_cm05_20210201_20210228)\n",
    "maestro_cm05_20210201_20210228_dt.head()"
   ]
  },
  {
   "cell_type": "code",
   "execution_count": null,
   "id": "4b78c245",
   "metadata": {},
   "outputs": [],
   "source": [
    "maestro_cm05_20210301_20210331 = \"../../datos/CM05/maestro_cm05_20210301_20210331.csv\"\n",
    "maestro_cm05_20210301_20210331_dt = pd.read_csv(maestro_cm05_20210301_20210331)\n",
    "maestro_cm05_20210301_20210331_dt.head()"
   ]
  },
  {
   "cell_type": "code",
   "execution_count": null,
   "id": "dda32d1b",
   "metadata": {},
   "outputs": [],
   "source": [
    "maestro_cm05_20210401_20210430 = \"../../datos/CM05/maestro_cm05_20210401_20210430.csv\"\n",
    "maestro_cm05_20210401_20210430_dt = pd.read_csv(maestro_cm05_20210401_20210430)\n",
    "maestro_cm05_20210401_20210430_dt.head()"
   ]
  },
  {
   "cell_type": "code",
   "execution_count": null,
   "id": "b37dab27",
   "metadata": {},
   "outputs": [],
   "source": [
    "maestro_cm05_20210501_20210531 = \"../../datos/CM05/maestro_cm05_20210501_20210531.csv\"\n",
    "maestro_cm05_20210501_20210531_dt = pd.read_csv(maestro_cm05_20210501_20210531)\n",
    "maestro_cm05_20210501_20210531_dt.head()"
   ]
  },
  {
   "cell_type": "code",
   "execution_count": null,
   "id": "d4112862",
   "metadata": {},
   "outputs": [],
   "source": [
    "maestro_cm05_20210601_20210630 = \"../../datos/CM05/maestro_cm05_20210601_20210630.csv\"\n",
    "maestro_cm05_20210601_20210630_dt = pd.read_csv(maestro_cm05_20210601_20210630)\n",
    "maestro_cm05_20210601_20210630_dt.head()"
   ]
  },
  {
   "cell_type": "code",
   "execution_count": null,
   "id": "10583310",
   "metadata": {},
   "outputs": [],
   "source": [
    "maestro_cm05_20210701_20210731 = \"../../datos/CM05/maestro_cm05_20210701_20210731.csv\"\n",
    "maestro_cm05_20210701_20210731_dt = pd.read_csv(maestro_cm05_20210701_20210731)\n",
    "maestro_cm05_20210701_20210731_dt.head()"
   ]
  }
 ],
 "metadata": {
  "kernelspec": {
   "display_name": "Python 3 (ipykernel)",
   "language": "python",
   "name": "python3"
  },
  "language_info": {
   "codemirror_mode": {
    "name": "ipython",
    "version": 3
   },
   "file_extension": ".py",
   "mimetype": "text/x-python",
   "name": "python",
   "nbconvert_exporter": "python",
   "pygments_lexer": "ipython3",
   "version": "3.9.7"
  }
 },
 "nbformat": 4,
 "nbformat_minor": 5
}
